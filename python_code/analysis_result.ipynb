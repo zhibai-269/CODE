{
 "cells": [
  {
   "cell_type": "code",
   "execution_count": 9,
   "metadata": {},
   "outputs": [],
   "source": [
    "def load_result_nodes(filename):\n",
    "    nodes=[]\n",
    "    with open(filename,\"r\") as f:\n",
    "        nodes=f.readlines()\n",
    "    return nodes\n",
    "def load_oringin(filename):\n",
    "    nodes=set()\n",
    "    edges=[]\n",
    "    with open(filename,\"r\") as f:\n",
    "        edges=f.readlines()\n",
    "    for edge in edges:\n",
    "        edge=edge.strip().split(\" \")\n",
    "        nodes.add(edge[0])\n",
    "        nodes.add(edge[1])\n",
    "    return len(nodes),len(edges)"
   ]
  },
  {
   "cell_type": "code",
   "execution_count": 16,
   "metadata": {},
   "outputs": [
    {
     "name": "stdout",
     "output_type": "stream",
     "text": [
      "      个体编号 原始节点数   原始边数  结果点数\n",
      "0   114621  5599  88495  5071\n",
      "0   114823  6135  92751  5639\n",
      "0   115017  5811  90449  5164\n",
      "0   115219  6095  88140  5440\n",
      "0   115320  5105  87848  4661\n",
      "..     ...   ...    ...   ...\n",
      "0   139839  6395  87879  5530\n",
      "0   140117  5298  86481  4795\n",
      "0   140319  5345  87354  4887\n",
      "0   140420  5423  85921  5091\n",
      "0   140824  6073  89040  5598\n",
      "\n",
      "[100 rows x 4 columns]\n"
     ]
    }
   ],
   "source": [
    "import pandas as pd \n",
    "distance4_result_file=\"\"\n",
    "\n",
    "distance3_result_file=\"../graph_file/distance_3_result/\"\n",
    "distance3_oringin_file=\"../graph_file/distance_3/\"\n",
    "distance4_result_file=\"../graph_file/distance_4_result/\"\n",
    "distance4_oringin_file=\"../graph_file/distance_4/\"\n",
    "import os\n",
    "dataframe=pd.DataFrame(columns=[\"个体编号\",\"原始节点数\",\"原始边数\",\"结果点数\"])\n",
    "for file in os.listdir(distance4_result_file):\n",
    "    row={}\n",
    "    # print(file[:6]) \n",
    "    oring_nodes_len,oringin_edges_len=load_oringin(distance4_oringin_file+file)\n",
    "    result_nodes=load_result_nodes(distance4_result_file+file)\n",
    "    person_name=file[:6]\n",
    "    row[\"个体编号\"]=person_name\n",
    "    row[\"原始节点数\"]=oring_nodes_len\n",
    "    row[\"原始边数\"]=oringin_edges_len\n",
    "    row[\"结果点数\"]=len(result_nodes)\n",
    "    dataframe=pd.concat([dataframe,pd.DataFrame([row])])\n",
    "\n",
    "    # print(f\"个体{person_name}的原始节点数为{oring_nodes_len},原始边数为{oringin_edges_len},结果节点数为{len(result_nodes)}\")\n",
    "print(dataframe)\n",
    "dataframe.to_csv(\"../graph_file/result_distance_4.csv\",index=False)"
   ]
  },
  {
   "cell_type": "code",
   "execution_count": null,
   "metadata": {
    "pycharm": {
     "is_executing": true
    }
   },
   "outputs": [],
   "source": [
    "import networkx as nx\n",
    "g=nx.read_edgelist(\"../graph_file/distance_4/114823.txt\",nodetype=str)\n",
    "g1=nx.read_edgelist(\"../graph_file/distance_3/114823.txt\",nodetype=str)"
   ]
  },
  {
   "cell_type": "code",
   "execution_count": 45,
   "metadata": {},
   "outputs": [
    {
     "name": "stdout",
     "output_type": "stream",
     "text": [
      "[0, 0, 225, 144, 196, 206, 186, 189, 161, 196, 181, 167, 161, 157, 157, 148, 138, 109, 120, 121, 113, 107, 101, 92, 85, 104, 81, 91, 77, 65, 81, 61, 74, 61, 70, 68, 73, 54, 53, 66, 58, 50, 51, 47, 47, 55, 42, 39, 41, 35, 24, 44, 32, 38, 42, 35, 31, 25, 31, 34, 26, 31, 25, 17, 23, 22, 25, 18, 23, 18, 21, 22, 26, 10, 19, 26, 14, 22, 19, 15, 13, 19, 12, 10, 12, 11, 13, 10, 17, 8, 7, 11, 10, 10, 7, 11, 10, 6, 9, 5, 8, 5, 2, 5, 6, 4, 4, 4, 2, 5, 3, 4, 7, 2, 2, 0, 1, 1, 3, 2, 0, 5, 2, 5, 1, 0, 3, 0, 5, 2, 0, 1, 0, 2, 2, 1, 0, 1, 0, 1, 1, 2, 1, 3, 1, 1, 1, 1, 1, 1, 1, 2, 1, 1, 0, 0, 1, 0, 1, 0, 0, 0, 1, 1, 0, 2, 0, 1, 0, 0, 0, 0, 0, 0, 1, 1, 1, 0, 0, 0, 1, 0, 1, 0, 1, 0, 0, 0, 0, 0, 0, 0, 0, 0, 1, 0, 1, 1, 0, 1, 0, 0, 1, 1, 0, 0, 0, 1, 0, 0, 0, 0, 0, 0, 0, 0, 0, 1, 0, 0, 0, 0, 0, 0, 0, 0, 0, 0, 1, 0, 0, 0, 0, 0, 1, 0, 0, 0, 0, 0, 0, 0, 0, 0, 0, 0, 0, 0, 0, 0, 0, 0, 0, 1, 0, 0, 0, 0, 1, 0, 0, 0, 0, 0, 0, 0, 0, 1, 0, 0, 0, 0, 0, 0, 0, 0, 0, 0, 1, 0, 0, 0, 0, 1, 0, 1, 0, 0, 0, 0, 0, 0, 0, 0, 0, 0, 0, 0, 0, 0, 0, 1, 0, 0, 0, 0, 1, 0, 0, 0, 0, 0, 0, 0, 0, 0, 0, 0, 0, 0, 0, 0, 0, 0, 0, 0, 0, 0, 0, 0, 0, 0, 0, 0, 0, 0, 0, 0, 0, 0, 0, 0, 0, 0, 0, 0, 0, 0, 0, 1, 1, 0, 0, 0, 0, 0, 0, 0, 0, 0, 0, 0, 1, 0, 1, 0, 0, 0, 0, 0, 0, 0, 0, 0, 0, 0, 0, 1, 0, 1, 0, 0, 0, 0, 0, 0, 0, 0, 0, 0, 0, 0, 0, 0, 0, 0, 0, 0, 0, 0, 0, 0, 0, 0, 0, 1, 0, 0, 0, 0, 0, 0, 0, 0, 0, 0, 0, 0, 0, 0, 0, 0, 0, 0, 0, 0, 0, 1, 0, 0, 0, 0, 0, 0, 0, 0, 0, 1, 0, 0, 0, 0, 0, 0, 0, 1, 0, 0, 0, 0, 0, 0, 0, 0, 0, 0, 0, 0, 0, 0, 0, 0, 0, 0, 0, 0, 0, 0, 0, 0, 0, 0, 0, 0, 0, 0, 0, 0, 0, 0, 0, 0, 0, 0, 0, 0, 0, 0, 0, 0, 0, 0, 0, 0, 0, 0, 0, 0, 0, 0, 0, 1, 0, 0, 1]\n"
     ]
    }
   ],
   "source": [
    "print(nx.degree_histogram(g))"
   ]
  },
  {
   "cell_type": "code",
   "execution_count": 46,
   "metadata": {},
   "outputs": [],
   "source": [
    "\n",
    "import matplotlib.pyplot as plt\n",
    "degrees=[]\n",
    "for it,de in g.degree:\n",
    "    degrees.append(de)\n"
   ]
  },
  {
   "cell_type": "code",
   "execution_count": null,
   "metadata": {},
   "outputs": [],
   "source": []
  },
  {
   "cell_type": "code",
   "execution_count": 47,
   "metadata": {},
   "outputs": [
    {
     "data": {
      "image/png": "[encoded data removed]",
      "text/plain": [
       "<Figure size 432x288 with 1 Axes>"
      ]
     },
     "metadata": {
      "needs_background": "light"
     },
     "output_type": "display_data"
    }
   ],
   "source": [
    "#度分布图，距离4为例\n",
    "degree_distribute=nx.degree_histogram(g)\n",
    "x=range(len(degree_distribute))\n",
    "y=[z/float(sum(degree_distribute))for z in degree_distribute]\n",
    "plt.loglog(x,y)\n",
    "plt.show()"
   ]
  },
  {
   "cell_type": "code",
   "execution_count": 48,
   "metadata": {},
   "outputs": [
    {
     "data": {
      "image/png": "[encoded data removed]",
      "text/plain": [
       "<Figure size 432x288 with 1 Axes>"
      ]
     },
     "metadata": {
      "needs_background": "light"
     },
     "output_type": "display_data"
    }
   ],
   "source": [
    "#度分布图，距离3为例\n",
    "degree_distribute=nx.degree_histogram(g1)\n",
    "x=range(len(degree_distribute))\n",
    "y=[z/float(sum(degree_distribute))for z in degree_distribute]\n",
    "plt.loglog(x,y)\n",
    "plt.show()"
   ]
  },
  {
   "cell_type": "code",
   "execution_count": null,
   "metadata": {},
   "outputs": [],
   "source": [
    "#聚集系数\n",
    "g_average_clustering_num=nx.average_clustering(g)\n",
    "g_average_clustering_num1=nx.average_clustering(g1)\n",
    "print(\"平均聚集系数：\"+str(g_average_clustering_num),g_average_clustering_num1)"
   ]
  },
  {
   "cell_type": "code",
   "execution_count": null,
   "metadata": {},
   "outputs": [],
   "source": []
  },
  {
   "cell_type": "code",
   "execution_count": 25,
   "metadata": {},
   "outputs": [
    {
     "data": {
      "image/png": "[encoded data removed]",
      "text/plain": [
       "<Figure size 432x288 with 1 Axes>"
      ]
     },
     "metadata": {
      "needs_background": "light"
     },
     "output_type": "display_data"
    }
   ],
   "source": [
    "plt.hist(degrees,bins=100)\n",
    "plt.show()"
   ]
  },
  {
   "cell_type": "code",
   "execution_count": 55,
   "metadata": {},
   "outputs": [
    {
     "name": "stdout",
     "output_type": "stream",
     "text": [
      "3.4024619945371093\n"
     ]
    }
   ],
   "source": [
    "print(nx.average_shortest_path_length(g))"
   ]
  },
  {
   "cell_type": "code",
   "execution_count": null,
   "metadata": {},
   "outputs": [],
   "source": []
  },
  {
   "cell_type": "code",
   "execution_count": null,
   "metadata": {},
   "outputs": [],
   "source": [
    "counts=[de for de in degrees if de>200]\n"
   ]
  },
  {
   "cell_type": "code",
   "execution_count": 40,
   "metadata": {},
   "outputs": [
    {
     "data": {
      "text/html": [
       "<div>\n",
       "<style scoped>\n",
       "    .dataframe tbody tr th:only-of-type {\n",
       "        vertical-align: middle;\n",
       "    }\n",
       "\n",
       "    .dataframe tbody tr th {\n",
       "        vertical-align: top;\n",
       "    }\n",
       "\n",
       "    .dataframe thead th {\n",
       "        text-align: right;\n",
       "    }\n",
       "</style>\n",
       "<table border=\"1\" class=\"dataframe\">\n",
       "  <thead>\n",
       "    <tr style=\"text-align: right;\">\n",
       "      <th></th>\n",
       "      <th>个体编号</th>\n",
       "      <th>4_4原始节点数</th>\n",
       "      <th>4_4原始边数</th>\n",
       "      <th>FIDNER结果点数</th>\n",
       "    </tr>\n",
       "  </thead>\n",
       "  <tbody>\n",
       "    <tr>\n",
       "      <th>0</th>\n",
       "      <td>114621</td>\n",
       "      <td>5599</td>\n",
       "      <td>88495</td>\n",
       "      <td>5071</td>\n",
       "    </tr>\n",
       "    <tr>\n",
       "      <th>1</th>\n",
       "      <td>114823</td>\n",
       "      <td>6135</td>\n",
       "      <td>92751</td>\n",
       "      <td>5639</td>\n",
       "    </tr>\n",
       "    <tr>\n",
       "      <th>2</th>\n",
       "      <td>115017</td>\n",
       "      <td>5811</td>\n",
       "      <td>90449</td>\n",
       "      <td>5164</td>\n",
       "    </tr>\n",
       "    <tr>\n",
       "      <th>3</th>\n",
       "      <td>115219</td>\n",
       "      <td>6095</td>\n",
       "      <td>88140</td>\n",
       "      <td>5440</td>\n",
       "    </tr>\n",
       "    <tr>\n",
       "      <th>4</th>\n",
       "      <td>115320</td>\n",
       "      <td>5105</td>\n",
       "      <td>87848</td>\n",
       "      <td>4661</td>\n",
       "    </tr>\n",
       "    <tr>\n",
       "      <th>...</th>\n",
       "      <td>...</td>\n",
       "      <td>...</td>\n",
       "      <td>...</td>\n",
       "      <td>...</td>\n",
       "    </tr>\n",
       "    <tr>\n",
       "      <th>95</th>\n",
       "      <td>139839</td>\n",
       "      <td>6395</td>\n",
       "      <td>87879</td>\n",
       "      <td>5530</td>\n",
       "    </tr>\n",
       "    <tr>\n",
       "      <th>96</th>\n",
       "      <td>140117</td>\n",
       "      <td>5298</td>\n",
       "      <td>86481</td>\n",
       "      <td>4795</td>\n",
       "    </tr>\n",
       "    <tr>\n",
       "      <th>97</th>\n",
       "      <td>140319</td>\n",
       "      <td>5345</td>\n",
       "      <td>87354</td>\n",
       "      <td>4887</td>\n",
       "    </tr>\n",
       "    <tr>\n",
       "      <th>98</th>\n",
       "      <td>140420</td>\n",
       "      <td>5423</td>\n",
       "      <td>85921</td>\n",
       "      <td>5091</td>\n",
       "    </tr>\n",
       "    <tr>\n",
       "      <th>99</th>\n",
       "      <td>140824</td>\n",
       "      <td>6073</td>\n",
       "      <td>89040</td>\n",
       "      <td>5598</td>\n",
       "    </tr>\n",
       "  </tbody>\n",
       "</table>\n",
       "<p>100 rows × 4 columns</p>\n",
       "</div>"
      ],
      "text/plain": [
       "      个体编号  4_4原始节点数  4_4原始边数  FIDNER结果点数\n",
       "0   114621      5599    88495        5071\n",
       "1   114823      6135    92751        5639\n",
       "2   115017      5811    90449        5164\n",
       "3   115219      6095    88140        5440\n",
       "4   115320      5105    87848        4661\n",
       "..     ...       ...      ...         ...\n",
       "95  139839      6395    87879        5530\n",
       "96  140117      5298    86481        4795\n",
       "97  140319      5345    87354        4887\n",
       "98  140420      5423    85921        5091\n",
       "99  140824      6073    89040        5598\n",
       "\n",
       "[100 rows x 4 columns]"
      ]
     },
     "execution_count": 40,
     "metadata": {},
     "output_type": "execute_result"
    }
   ],
   "source": [
    "df1=pd.read_csv(\"../graph_file/result_distance_3.csv\")\n",
    "df2=pd.read_csv(\"../graph_file/result_distance_4.csv\")\n",
    "df1.columns=[\"个体编号\",\"4_3原始节点数\",\"4_3原始边数\",\"FIDNER结果点数\"]\n",
    "# df1.reindex(columns=[\"个体编号\",\"4_3原始节点数\",\"4_3原始边数\",\"FIDNER结果点数\"])\n",
    "df2.columns=[\"个体编号\",\"4_4原始节点数\",\"4_4原始边数\",\"FIDNER结果点数\"]\n",
    "# df2.reindex(columns=[\"个体编号\",\"4_4原始节点数\",\"4_4原始边数\",\"FIDNER结果点数\"])\n",
    "df2"
   ]
  },
  {
   "cell_type": "code",
   "execution_count": null,
   "metadata": {},
   "outputs": [],
   "source": [
    "import pandas\n"
   ]
  },
  {
   "cell_type": "code",
   "execution_count": 41,
   "metadata": {},
   "outputs": [
    {
     "data": {
      "text/html": [
       "<div>\n",
       "<style scoped>\n",
       "    .dataframe tbody tr th:only-of-type {\n",
       "        vertical-align: middle;\n",
       "    }\n",
       "\n",
       "    .dataframe tbody tr th {\n",
       "        vertical-align: top;\n",
       "    }\n",
       "\n",
       "    .dataframe thead th {\n",
       "        text-align: right;\n",
       "    }\n",
       "</style>\n",
       "<table border=\"1\" class=\"dataframe\">\n",
       "  <thead>\n",
       "    <tr style=\"text-align: right;\">\n",
       "      <th></th>\n",
       "      <th>个体编号</th>\n",
       "      <th>4_3原始节点数</th>\n",
       "      <th>4_3原始边数</th>\n",
       "      <th>FIDNER结果点数</th>\n",
       "    </tr>\n",
       "  </thead>\n",
       "  <tbody>\n",
       "    <tr>\n",
       "      <th>0</th>\n",
       "      <td>114823</td>\n",
       "      <td>2360</td>\n",
       "      <td>6330</td>\n",
       "      <td>1115</td>\n",
       "    </tr>\n",
       "    <tr>\n",
       "      <th>1</th>\n",
       "      <td>115017</td>\n",
       "      <td>2600</td>\n",
       "      <td>7702</td>\n",
       "      <td>1242</td>\n",
       "    </tr>\n",
       "    <tr>\n",
       "      <th>2</th>\n",
       "      <td>115219</td>\n",
       "      <td>2102</td>\n",
       "      <td>5300</td>\n",
       "      <td>1003</td>\n",
       "    </tr>\n",
       "    <tr>\n",
       "      <th>3</th>\n",
       "      <td>115320</td>\n",
       "      <td>3449</td>\n",
       "      <td>15673</td>\n",
       "      <td>1803</td>\n",
       "    </tr>\n",
       "    <tr>\n",
       "      <th>4</th>\n",
       "      <td>115825</td>\n",
       "      <td>2548</td>\n",
       "      <td>7456</td>\n",
       "      <td>1227</td>\n",
       "    </tr>\n",
       "    <tr>\n",
       "      <th>...</th>\n",
       "      <td>...</td>\n",
       "      <td>...</td>\n",
       "      <td>...</td>\n",
       "      <td>...</td>\n",
       "    </tr>\n",
       "    <tr>\n",
       "      <th>94</th>\n",
       "      <td>139839</td>\n",
       "      <td>1731</td>\n",
       "      <td>3818</td>\n",
       "      <td>823</td>\n",
       "    </tr>\n",
       "    <tr>\n",
       "      <th>95</th>\n",
       "      <td>140117</td>\n",
       "      <td>3112</td>\n",
       "      <td>12024</td>\n",
       "      <td>1527</td>\n",
       "    </tr>\n",
       "    <tr>\n",
       "      <th>96</th>\n",
       "      <td>140319</td>\n",
       "      <td>2995</td>\n",
       "      <td>9729</td>\n",
       "      <td>1480</td>\n",
       "    </tr>\n",
       "    <tr>\n",
       "      <th>97</th>\n",
       "      <td>140420</td>\n",
       "      <td>3156</td>\n",
       "      <td>10346</td>\n",
       "      <td>1595</td>\n",
       "    </tr>\n",
       "    <tr>\n",
       "      <th>98</th>\n",
       "      <td>140824</td>\n",
       "      <td>2436</td>\n",
       "      <td>6502</td>\n",
       "      <td>1191</td>\n",
       "    </tr>\n",
       "  </tbody>\n",
       "</table>\n",
       "<p>99 rows × 4 columns</p>\n",
       "</div>"
      ],
      "text/plain": [
       "      个体编号  4_3原始节点数  4_3原始边数  FIDNER结果点数\n",
       "0   114823      2360     6330        1115\n",
       "1   115017      2600     7702        1242\n",
       "2   115219      2102     5300        1003\n",
       "3   115320      3449    15673        1803\n",
       "4   115825      2548     7456        1227\n",
       "..     ...       ...      ...         ...\n",
       "94  139839      1731     3818         823\n",
       "95  140117      3112    12024        1527\n",
       "96  140319      2995     9729        1480\n",
       "97  140420      3156    10346        1595\n",
       "98  140824      2436     6502        1191\n",
       "\n",
       "[99 rows x 4 columns]"
      ]
     },
     "execution_count": 41,
     "metadata": {},
     "output_type": "execute_result"
    }
   ],
   "source": [
    "pd.merge(df1,df2,on=\"个体编号\").to_csv(\"../graph_file/result_distance_3_4.csv\",index=False)\n",
    "df1"
   ]
  },
  {
   "cell_type": "code",
   "execution_count": null,
   "metadata": {},
   "outputs": [],
   "source": [
    "#计算结果中的前两百个点的分布"
   ]
  }
 ],
 "metadata": {
  "kernelspec": {
   "display_name": "Python 3.9.12 ('base')",
   "language": "python",
   "name": "python3"
  },
  "language_info": {
   "codemirror_mode": {
    "name": "ipython",
    "version": 3
   },
   "file_extension": ".py",
   "mimetype": "text/x-python",
   "name": "python",
   "nbconvert_exporter": "python",
   "pygments_lexer": "ipython3",
   "version": "3.9.12"
  },
  "orig_nbformat": 4,
  "vscode": {
   "interpreter": {
    "hash": "6218001e1394f6dfc9651e69e6113b19d5ca4029843c0307c1418fcabe8710e8"
   }
  }
 },
 "nbformat": 4,
 "nbformat_minor": 2
}
