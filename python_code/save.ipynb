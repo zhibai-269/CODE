{
 "cells": [
  {
   "cell_type": "code",
   "execution_count": 42,
   "metadata": {
    "collapsed": false,
    "pycharm": {
     "name": "#%%\n"
    }
   },
   "outputs": [],
   "source": [
    "import load_edge\n",
    "from tqdm import tqdm\n",
    "# print(edge)\n",
    "def remove_and_sort(edge_key_list):\n",
    "#去除自环\n",
    "    remove_list=[]\n",
    "    for i in tqdm(range(len(edge_key_list))) :\n",
    "        #自环\n",
    "        if edge_key_list[i][0]==edge_key_list[i][1]:\n",
    "            remove_list.append((i,edge_key_list[i]))\n",
    "        #重复边\n",
    "        elif edge_key_list.count(edge_key_list[i])>1:\n",
    "\n",
    "            remove_list.append((i,edge_key_list[i]))\n",
    "        # print(i)\n",
    "    # print(remove_list)\n",
    "    # value__remove_list=[edge_value_list[i] for i,_ in remove_list]\n",
    "\n",
    "    for i,ele in remove_list:\n",
    "\n",
    "        edge_key_list.remove(ele)\n",
    "    edge_list_sort=[[int(x[0]),int(x[1])]if int(x[0])<int(x[1]) else [int(x[1]),int(x[0])] for x in edge_key_list]\n",
    "# edge_list_sort\n",
    "    sort_d = [value for index, value in sorted(enumerate(edge_list_sort), key=lambda d:d[1])]\n",
    "    # sort_d\n",
    "    return sort_d\n",
    "def save_graph_txt():\n",
    "    pass"
   ]
  },
  {
   "cell_type": "code",
   "execution_count": null,
   "metadata": {
    "collapsed": false,
    "pycharm": {
     "name": "#%%\n"
    }
   },
   "outputs": [],
   "source": [
    "import load_edge\n",
    "from tqdm import tqdm\n",
    "def remove_and_sort1(edge_key_list):\n",
    "    removed_list=[]\n",
    "    for item in tqdm(edge_key_list):\n",
    "        if item[0]!=item[1]:\n",
    "            if item not in removed_list:\n",
    "                removed_list.append(item)\n",
    "    edge_list_sort=[[int(x[0]),int(x[1])]if int(x[0])<int(x[1]) else [int(x[1]),int(x[0])] for x in removed_list]\n",
    "    sort_d = [value for index, value in sorted(enumerate(edge_list_sort), key=lambda d:d[1])]\n",
    "    #排序后去除最后一遍重复边\n",
    "    result=[]\n",
    "    for i in sort_d:\n",
    "        if i not in result:\n",
    "            result.append(i)\n",
    "    return result\n",
    "def reindex(edge_list):\n",
    "    print(\"正在处理索引压缩\")\n",
    "    node_unique=[]\n",
    "    for it in edge_list:\n",
    "        if it[0] not in node_unique:\n",
    "            node_unique.append(it[0])\n",
    "        if it[1] not in node_unique:\n",
    "            node_unique.append(it[1])\n",
    "    node_unique.sort()\n",
    "    node_unique_dict={}\n",
    "    for i,ele in enumerate(node_unique):\n",
    "        node_unique_dict[ele]=i\n",
    "    edge_list_new=[[node_unique_dict[x[0]],node_unique_dict[x[1]]] for x in edge_list]\n",
    "    edge_list_unique=[]\n",
    "    for i in tqdm(range(len(edge_list_new))):\n",
    "        if edge_list_new[i] not in edge_list_unique:\n",
    "            edge_list_unique.append(edge_list_new[i])\n",
    "    return edge_list_unique,node_unique_dict\n",
    "\n",
    "\n",
    "\n",
    "filename=\"../matFile/116221.mat\"\n",
    "edge_key_list=load_edge.load_edge(filename)\n",
    "    \n",
    "\n",
    "edges=remove_and_sort1(edge_key_list)\n",
    "edges,node_unique_dict=reindex(edges)\n",
    "print(len(edges))\n",
    "    "
   ]
  },
  {
   "cell_type": "code",
   "execution_count": null,
   "metadata": {
    "collapsed": false,
    "pycharm": {
     "name": "#%%\n"
    }
   },
   "outputs": [],
   "source": [
    "new=[]\n",
    "\n",
    "for i in edges:\n",
    "    if i not in new:\n",
    "        new.append(i)\n",
    "    else:\n",
    "        print(i)\n",
    "print(len(new))"
   ]
  },
  {
   "cell_type": "code",
   "execution_count": null,
   "metadata": {
    "collapsed": false,
    "pycharm": {
     "name": "#%%\n"
    }
   },
   "outputs": [],
   "source": [
    "filename=\"../matFile/116221.mat\"\n",
    "edge_key_list=load_edge.load_edge(filename)\n",
    "import load_edge\n",
    "# print(edge_list)\n",
    "print(len(edge_list))"
   ]
  },
  {
   "cell_type": "code",
   "execution_count": null,
   "metadata": {
    "collapsed": false,
    "pycharm": {
     "name": "#%%\n"
    }
   },
   "outputs": [],
   "source": [
    "new=[]\n",
    "\n",
    "for i in edges:\n",
    "    if i not in new:\n",
    "        new.append(i)\n",
    "    else:\n",
    "        print(i)\n",
    "print(len(new))"
   ]
  },
  {
   "cell_type": "code",
   "execution_count": null,
   "metadata": {
    "collapsed": false,
    "pycharm": {
     "name": "#%%\n"
    }
   },
   "outputs": [],
   "source": [
    "filename=\"../matFile/116221.mat\"\n",
    "edge_key_list=load_edge.load_edge(filename)\n",
    "import load_edge\n",
    "# print(edge_list)\n",
    "print(len(edge_list))"
   ]
  },
  {
   "cell_type": "code",
   "execution_count": null,
   "metadata": {
    "collapsed": false,
    "pycharm": {
     "name": "#%%\n"
    }
   },
   "outputs": [],
   "source": [
    "%load_ext autoreload\n",
    "%autoreload 2\n",
    "from utils import *\n",
    "\n",
    "\n",
    "filename=\"../matFile/106319.mat\"\n",
    "\n",
    "edge_key,node_dict=mat_transfer(filename)\n",
    "print(len(edge_key))\n",
    "with open(\"../test_many/106319.txt\",\"w\") as f:\n",
    "    for i in edge_key:\n",
    "        f.write(str(i[0])+\" \"+str(i[1])+\"\\n\")\n",
    "with open(\"../test_many/106319.dic\",\"w\") as f:\n",
    "    for i,ele in node_dict.items():\n",
    "        f.write(str(i)+\" \"+str(ele)+\"\\n\")\n",
    "\n",
    "\n",
    "\n"
   ]
  },
  {
   "cell_type": "code",
   "execution_count": null,
   "metadata": {
    "collapsed": false,
    "pycharm": {
     "name": "#%%\n"
    }
   },
   "outputs": [],
   "source": [
    "print(len(edge_key))\n",
    "print(len(node_dict))\n",
    "new =[]\n",
    "for i in edge_key:\n",
    "    if i[0] == i[1]:\n",
    "        print(i)\n",
    "        pass\n",
    "    else:\n",
    "        new.append(i)\n",
    "        # print(i)\n",
    "        pass\n",
    "\n",
    "print(len(new))\n"
   ]
  },
  {
   "cell_type": "code",
   "execution_count": null,
   "metadata": {
    "collapsed": false,
    "pycharm": {
     "name": "#%%\n"
    }
   },
   "outputs": [],
   "source": [
    "new=[]\n",
    "\n",
    "for i in edges:\n",
    "    if i not in new:\n",
    "        new.append(i)\n",
    "    else:\n",
    "        print(i)\n",
    "print(len(new))"
   ]
  },
  {
   "cell_type": "code",
   "execution_count": null,
   "metadata": {
    "collapsed": false,
    "pycharm": {
     "name": "#%%\n"
    }
   },
   "outputs": [],
   "source": [
    "filename=\"../matFile/116221.mat\"\n",
    "edge_key_list=load_edge.load_edge(filename)\n",
    "import load_edge\n",
    "# print(edge_list)\n",
    "print(len(edge_list))"
   ]
  },
  {
   "cell_type": "code",
   "execution_count": null,
   "metadata": {
    "collapsed": false,
    "pycharm": {
     "name": "#%%\n"
    }
   },
   "outputs": [],
   "source": [
    "from utils import *\n",
    "\n",
    "\n",
    "filename=\"../matFile/116221.mat\"\n",
    "\n",
    "edge_key,node_dict=mat_transfer(filename)\n",
    "print(edge_key)\n",
    "# with open\n",
    "\n",
    "\n",
    "\n"
   ]
  },
  {
   "cell_type": "code",
   "execution_count": null,
   "metadata": {
    "collapsed": false,
    "pycharm": {
     "name": "#%%\n"
    }
   },
   "outputs": [],
   "source": [
    "new=[]\n",
    "\n",
    "for i in edges:\n",
    "    if i not in new:\n",
    "        new.append(i)\n",
    "    else:\n",
    "        print(i)\n",
    "print(len(new))"
   ]
  },
  {
   "cell_type": "code",
   "execution_count": null,
   "metadata": {
    "collapsed": false,
    "pycharm": {
     "name": "#%%\n"
    }
   },
   "outputs": [],
   "source": [
    "filename=\"../matFile/116221.mat\"\n",
    "edge_key_list=load_edge.load_edge(filename)\n",
    "# import load_edge\n",
    "# print(edge_list)\n",
    "edge_list=edge_key_list\n",
    "# print(len(edge_list))"
   ]
  },
  {
   "cell_type": "code",
   "execution_count": null,
   "metadata": {
    "collapsed": false,
    "pycharm": {
     "name": "#%%\n"
    }
   },
   "outputs": [],
   "source": [
    "from utils import *\n",
    "\n",
    "\n",
    "filename=\"../matFile/116221.mat\"\n",
    "\n",
    "edge_key,node_dict=mat_transfer(filename)\n",
    "print(edge_key)\n",
    "# with open\n",
    "\n",
    "\n",
    "\n"
   ]
  },
  {
   "cell_type": "code",
   "execution_count": null,
   "metadata": {
    "collapsed": false,
    "pycharm": {
     "name": "#%%\n"
    }
   },
   "outputs": [],
   "source": [
    "from utils import *\n",
    "\n",
    "\n",
    "filename=\"../matFile/116221.mat\"\n",
    "\n",
    "edge_key,node_dict=mat_transfer(filename)\n",
    "print(edge_key)\n",
    "# with open\n",
    "\n",
    "\n",
    "\n"
   ]
  },
  {
   "cell_type": "code",
   "execution_count": null,
   "metadata": {
    "pycharm": {
     "name": "#%%\n"
    }
   },
   "outputs": [],
   "source": [
    "new=[]\n",
    "\n",
    "for i in edges:\n",
    "    if i not in new:\n",
    "        new.append(i)\n",
    "    else:\n",
    "        print(i)\n",
    "print(len(new))"
   ]
  },
  {
   "cell_type": "code",
   "execution_count": 20,
   "metadata": {
    "collapsed": false,
    "pycharm": {
     "name": "#%%\n"
    }
   },
   "outputs": [],
   "source": [
    "filename=\"../matFile/116221.mat\"\n",
    "edge_key_list=load_edge.load_edge(filename)\n",
    "# import load_edge\n",
    "# print(edge_list)\n",
    "edge_list=edge_key_list\n",
    "# print(len(edge_list))"
   ]
  },
  {
   "cell_type": "code",
   "execution_count": null,
   "metadata": {
    "pycharm": {
     "name": "#%%\n"
    }
   },
   "outputs": [],
   "source": [
    "from utils import *\n",
    "\n",
    "\n",
    "filename=\"../matFile/116221.mat\"\n",
    "\n",
    "edge_key,node_dict=mat_transfer(filename)\n",
    "print(edge_key)\n",
    "# with open\n",
    "\n",
    "\n",
    "\n"
   ]
  },
  {
   "cell_type": "code",
   "execution_count": 21,
   "metadata": {
    "collapsed": false,
    "pycharm": {
     "name": "#%%\n"
    }
   },
   "outputs": [
    {
     "name": "stdout",
     "output_type": "stream",
     "text": [
      "8748\n"
     ]
    }
   ],
   "source": [
    "edge_list_sort=[[int(x[0]),int(x[1])]if int(x[0])<int(x[1]) else [int(x[1]),int(x[0])] for x in edge_list]\n",
    "# edge_list_sort\n",
    "sort_d = [value for index, value in sorted(enumerate(edge_list_sort), key=lambda d:d[1])]\n",
    "sort_d\n",
    "print(len(sort_d))"
   ]
  },
  {
   "cell_type": "code",
   "execution_count": 22,
   "metadata": {
    "collapsed": false,
    "pycharm": {
     "name": "#%%\n"
    }
   },
   "outputs": [
    {
     "name": "stdout",
     "output_type": "stream",
     "text": [
      "正在处理索引压缩\n"
     ]
    },
    {
     "name": "stderr",
     "output_type": "stream",
     "text": [
      "100%|██████████| 8748/8748 [00:00<00:00, 19358.25it/s]\n"
     ]
    }
   ],
   "source": [
    "def reindex(edge_list):\n",
    "    print(\"正在处理索引压缩\")\n",
    "    node_unique=[]\n",
    "    for it in edge_list:\n",
    "        if it[0] not in node_unique:\n",
    "            node_unique.append(it[0])\n",
    "        if it[1] not in node_unique:\n",
    "            node_unique.append(it[1])\n",
    "    node_unique.sort()\n",
    "    node_unique_dict={}\n",
    "    for i,ele in enumerate(node_unique):\n",
    "        node_unique_dict[ele]=i\n",
    "    edge_list_new=[[node_unique_dict[x[0]],node_unique_dict[x[1]]] for x in edge_list]\n",
    "    edge_list_unique=[]\n",
    "    for i in tqdm(range(len(edge_list_new))):\n",
    "        if edge_list_new[i] not in edge_list_unique:\n",
    "            edge_list_unique.append(edge_list_new[i])\n",
    "    return edge_list_unique,node_unique_dict\n",
    "edge_list_new,node_unique_dict=reindex(edge_list)\n",
    "# edge_list_new\n",
    "# print(len(list(set(edge_list_new))))"
   ]
  },
  {
   "cell_type": "code",
   "execution_count": 23,
   "metadata": {
    "collapsed": false,
    "pycharm": {
     "name": "#%%\n"
    }
   },
   "outputs": [
    {
     "name": "stdout",
     "output_type": "stream",
     "text": [
      "8748\n",
      "8748\n"
     ]
    }
   ],
   "source": [
    "print(len(edge_list_new))\n",
    "new=[]\n",
    "\n",
    "for i in edge_list_new:\n",
    "    if i not in new:\n",
    "        new.append(i)\n",
    "    else:\n",
    "        print(i)\n",
    "print(len(new))"
   ]
  },
  {
   "cell_type": "code",
   "execution_count": 41,
   "metadata": {
    "collapsed": false,
    "pycharm": {
     "name": "#%%\n"
    }
   },
   "outputs": [],
   "source": [
    "# edge_list_sort=[x[0]]\n",
    "def save_txt():\n",
    "    with open(\"../graph_file/116221.txt\",\"w\") as f:\n",
    "        for edge in new:\n",
    "            f.write(str(edge[0])+\" \"+str(edge[1])+\"\\n\")\n",
    "\n",
    "save_txt()\n"
   ]
  },
  {
   "cell_type": "code",
   "execution_count": 57,
   "metadata": {
    "collapsed": false,
    "pycharm": {
     "name": "#%%\n"
    }
   },
   "outputs": [
    {
     "name": "stdout",
     "output_type": "stream",
     "text": [
      "[]\n",
      "[]\n"
     ]
    }
   ],
   "source": [
    "import networkx as nx\n",
    "G=nx.read_edgelist('../graph_file/graph_11461.txt',create_using=nx.DiGraph())\n",
    "# g=nx.read_gml('../graph_file/graph_11461.txt')\n",
    "print(list(nx.simple_cycles(G)))\n",
    "print(list(nx.selfloop_edges(G)))"
   ]
  }
 ],
 "metadata": {
  "kernelspec": {
   "display_name": "Python 3.9.12 ('base')",
   "language": "python",
   "name": "python3"
  },
  "language_info": {
   "codemirror_mode": {
    "name": "ipython",
    "version": 3
   },
   "file_extension": ".py",
   "mimetype": "text/x-python",
   "name": "python",
   "nbconvert_exporter": "python",
   "pygments_lexer": "ipython3",
   "version": "3.9.12"
  },
  "vscode": {
   "interpreter": {
    "hash": "6218001e1394f6dfc9651e69e6113b19d5ca4029843c0307c1418fcabe8710e8"
   }
  }
 },
 "nbformat": 4,
 "nbformat_minor": 0
}
