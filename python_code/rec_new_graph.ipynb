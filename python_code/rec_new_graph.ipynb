{
 "cells": [
  {
   "cell_type": "raw",
   "metadata": {
    "collapsed": false,
    "pycharm": {
     "name": ""
    }
   },
   "source": []
  },
  {
   "cell_type": "code",
   "execution_count": null,
   "metadata": {
    "collapsed": true,
    "pycharm": {
     "name": "#%%\n"
    }
   },
   "outputs": [],
   "source": []
  },
  {
   "cell_type": "code",
   "execution_count": null,
   "metadata": {
    "collapsed": false,
    "pycharm": {
     "name": "#%%\n"
    }
   },
   "outputs": [],
   "source": []
  },
  {
   "cell_type": "code",
   "execution_count": 5,
   "metadata": {
    "collapsed": false,
    "pycharm": {
     "name": "#%%\n"
    }
   },
   "outputs": [],
   "source": [
    "#提取出处理之后的边\n",
    "edge_after=[]\n",
    "for edge in edges_origin:\n",
    "    if edge[0] in result_nodes and edge[1] in result_nodes:\n",
    "        edge_after.append(edge)\n",
    "\n",
    "        "
   ]
  },
  {
   "cell_type": "code",
   "execution_count": 7,
   "metadata": {},
   "outputs": [],
   "source": [
    "\n",
    "def reindex(edge_list):\n",
    "    print(\"正在处理索引压缩\")\n",
    "    node_unique=[]\n",
    "    for it in edge_list:\n",
    "        if it[0] not in node_unique:\n",
    "            node_unique.append(it[0])\n",
    "        if it[1] not in node_unique:\n",
    "            node_unique.append(it[1])\n",
    "    node_unique.sort()\n",
    "    node_unique_dict={}\n",
    "    for i,ele in enumerate(node_unique):\n",
    "        node_unique_dict[ele]=i\n",
    "    edge_list_new=[[node_unique_dict[x[0]],node_unique_dict[x[1]]] for x in edge_list]\n",
    "    \n",
    "    \n",
    "    # edge_list_unique=[]\n",
    "    # for i in tqdm(range(len(edge_list_new))):\n",
    "    #     if edge_list_new[i] not in edge_list_unique:\n",
    "    #         edge_list_unique.append(edge_list_new[i])\n",
    "    return edge_list_new,node_unique_dict"
   ]
  },
  {
   "cell_type": "code",
   "execution_count": 8,
   "metadata": {},
   "outputs": [
    {
     "name": "stdout",
     "output_type": "stream",
     "text": [
      "正在处理索引压缩\n"
     ]
    }
   ],
   "source": [
    "edge_afeter_index,node_unique_dict=reindex(edge_after)\n"
   ]
  },
  {
   "cell_type": "code",
   "execution_count": 11,
   "metadata": {},
   "outputs": [],
   "source": [
    "with open(\"../graph_file/106319_firstprocess.txt\",\"w\") as f:\n",
    "    for edge in edge_afeter_index:\n",
    "        f.write(str(edge[0])+\" \"+str(edge[1])+\"\\n\")"
   ]
  },
  {
   "cell_type": "code",
   "execution_count": null,
   "metadata": {},
   "outputs": [],
   "source": [
    "#重新反映射节点\n",
    "\n"
   ]
  },
  {
   "cell_type": "code",
   "execution_count": 1,
   "metadata": {},
   "outputs": [],
   "source": [
    "def load_nodes(file_name):\n",
    "    nodes=[]\n",
    "    with open(file_name,'r') as f:\n",
    "        for line in f.readlines():\n",
    "            line=line.strip()\n",
    "            nodes.append(line)\n",
    "    return nodes"
   ]
  },
  {
   "cell_type": "code",
   "execution_count": null,
   "metadata": {},
   "outputs": [],
   "source": [
    "#读取原始索引，获取原始索引\n",
    "from utils import *\n",
    "dict1=load_dict(\"../test_many/106319.dic\")\n",
    "dict2=load_dict(\"../test_many/106319_second.dic\")\n",
    "dict3=load_dict(\"../test_many/106319_third.dic\")\n",
    "\n",
    "\n",
    "first_nodes=load_nodes(\"../test_many/106319_result1.txt\")\n",
    "second_nodes=load_nodes(\"../test_many/106319_result2.txt\")\n",
    "third_nodes=load_nodes(\"../test_many/106319_result3.txt\")\n",
    "\n",
    "\n",
    "first_nodes_oringin=get_oringin_node_index(first_nodes,dict1)\n",
    "senconde_nodes_oringin=get_oringin_node_index( get_oringin_node_index(second_nodes,dict2),dict1)\n",
    "third_nodes_oringin=get_oringin_node_index( get_oringin_node_index(get_oringin_node_index(third_nodes,dict3),dict2),dict1)\n",
    "\n",
    "# print(first_nodes[:10],second_nodes[:10],third_nodes[:10])\n",
    "print(len(first_nodes_oringin),len(senconde_nodes_oringin),len(third_nodes_oringin))\n",
    "commen_list=[]\n",
    "num=100\n",
    "for i in first_nodes_oringin[:num]:\n",
    "\n",
    "    if i in senconde_nodes_oringin[:num] and i in third_nodes_oringin[:num]:\n",
    "        commen_list.append(i)\n",
    "\n",
    "print(len([x for x in first_nodes_oringin[:num] if x in senconde_nodes_oringin[:num]] ))\n",
    "print(len([x for x in senconde_nodes_oringin[:num] if x in third_nodes_oringin[:num]] ))\n",
    "print(len([x for x in first_nodes_oringin[:num] if x in senconde_nodes_oringin[:num]  and x in third_nodes_oringin[:num]] ))\n",
    "\n",
    "print(len(commen_list))\n",
    "\n",
    "\n",
    "\n"
   ]
  },
  {
   "cell_type": "code",
   "execution_count": 34,
   "metadata": {},
   "outputs": [
    {
     "name": "stdout",
     "output_type": "stream",
     "text": [
      "19\n",
      "32\n",
      "59\n",
      "85\n",
      "126\n",
      "160\n",
      "195\n",
      "229\n",
      "254\n",
      "284\n",
      "314\n"
     ]
    },
    {
     "data": {
      "image/png": "[encoded data removed]",
      "text/plain": [
       "<Figure size 432x288 with 1 Axes>"
      ]
     },
     "metadata": {
      "needs_background": "light"
     },
     "output_type": "display_data"
    }
   ],
   "source": [
    "nums=[50,100,200,300,400,500,600,700,800,900,1000]\n",
    "num=100\n",
    "x=[]\n",
    "y=[]\n",
    "for num in nums:\n",
    "    commen_list=[]\n",
    "    for i in first_nodes_oringin[:num]:\n",
    "\n",
    "        if i in senconde_nodes_oringin[:num] and i in third_nodes_oringin[:num]:\n",
    "            commen_list.append(i)\n",
    "\n",
    "    print(len(commen_list))\n",
    "    x.append(num)\n",
    "    y.append(len(commen_list))\n",
    "plt.plot(x,y)\n",
    "for a,b in zip(x,y):\n",
    "    plt.text(a,b,b,ha='center',va='bottom',fontsize=10)\n",
    "plt.xticks(x)\n",
    "plt.title(\"前n个节点中共同节点的数量\")\n",
    "plt.show()\n",
    "\n"
   ]
  },
  {
   "cell_type": "code",
   "execution_count": 21,
   "metadata": {},
   "outputs": [
    {
     "data": {
      "image/png": "[encoded data removed]",
      "text/plain": [
       "<Figure size 432x288 with 1 Axes>"
      ]
     },
     "metadata": {
      "needs_background": "light"
     },
     "output_type": "display_data"
    }
   ],
   "source": [
    "import matplotlib.pyplot as plt\n",
    "#中文\n",
    "plt.rcParams['font.sans-serif'] = ['SimHei']\n",
    "plt.rcParams['axes.unicode_minus'] = False\n",
    "x1,x2,x3=first_nodes_oringin,senconde_nodes_oringin,third_nodes_oringin\n",
    "x=[\"原始\",\"第一次\",\"第二次\",\"第三次\"]\n",
    "y=[16408,len(x1),len(x2),len(x3)]\n",
    "\n",
    "\n",
    "plt.plot(x,y)\n",
    "#图上标注数字\n",
    "for a,b in zip(x,y):\n",
    "    plt.text(a,b,b,ha='center',va='bottom',fontsize=10)\n",
    "plt.title(\"处理后得到的节点数量\")\n",
    "plt.show()\n",
    "\n",
    "x_commen=[x for x in first_nodes_oringin[:num] if x in senconde_nodes_oringin[:num]  and x in third_nodes_oringin[:num]]\n",
    "\n",
    "\n",
    "\n"
   ]
  },
  {
   "cell_type": "code",
   "execution_count": null,
   "metadata": {},
   "outputs": [],
   "source": []
  },
  {
   "cell_type": "code",
   "execution_count": 25,
   "metadata": {},
   "outputs": [
    {
     "name": "stdout",
     "output_type": "stream",
     "text": [
      "dict_keys(['__header__', '__version__', '__globals__', 'surface'])\n"
     ]
    }
   ],
   "source": [
    "\n",
    "\n",
    "import scipy.io as sio\n",
    "surface=sio.loadmat(\"../matFile/106319surface.mat\")\n",
    "print(surface.keys())\n",
    "points=surface[\"surface\"][0][0][0].T"
   ]
  },
  {
   "cell_type": "code",
   "execution_count": 23,
   "metadata": {},
   "outputs": [],
   "source": [
    "def save_vtk(result,filename):\n",
    "    with open(filename,\"w\") as f:\n",
    "        f.write(\"# vtk DataFile Version 3.0\\nmesh surface\\nASCII\\nDATASET POLYDATA\\n\")\n",
    "        f.write(\"POINTS \"+str(len(result))+\" float\\n\")\n",
    "        for i in result:\n",
    "            point=points[int(i)]\n",
    "            f.write(str(point[0])+\" \"+str(point[1])+\" \"+str(point[2])+\"\\n\")\n",
    "\n",
    "\n"
   ]
  },
  {
   "cell_type": "code",
   "execution_count": 5,
   "metadata": {},
   "outputs": [],
   "source": [
    "save_vtk(first_nodes_oringin,\"../test_many/106319_result1_visual.vtk\")\n",
    "save_vtk(senconde_nodes_oringin,\"../test_many/106319_result2_visual.vtk\")\n",
    "save_vtk(third_nodes_oringin,\"../test_many/106319_result3_visual.vtk\")"
   ]
  },
  {
   "cell_type": "code",
   "execution_count": 26,
   "metadata": {},
   "outputs": [],
   "source": [
    "save_vtk(x_commen,\"../test_many/106319_commen.vtk\")"
   ]
  }
 ],
 "metadata": {
  "kernelspec": {
   "display_name": "Python 3.9.12 ('base')",
   "language": "python",
   "name": "python3"
  },
  "language_info": {
   "codemirror_mode": {
    "name": "ipython",
    "version": 3
   },
   "file_extension": ".py",
   "mimetype": "text/x-python",
   "name": "python",
   "nbconvert_exporter": "python",
   "pygments_lexer": "ipython3",
   "version": "3.9.12"
  },
  "vscode": {
   "interpreter": {
    "hash": "16f5b46f222e2a3e8d4adbf7141cae37b71ed37616e60735fa5d1164a1bc3ada"
   }
  }
 },
 "nbformat": 4,
 "nbformat_minor": 0
}
