{
 "cells": [
  {
   "cell_type": "code",
   "execution_count": 7,
   "metadata": {},
   "outputs": [
    {
     "ename": "ImportError",
     "evalue": "\n================================================================\nFailed to import CuPy.\n\nIf you installed CuPy via wheels (cupy-cudaXXX or cupy-rocm-X-X), make sure that the package matches with the version of CUDA or ROCm installed.\n\nOn Linux, you may need to set LD_LIBRARY_PATH environment variable depending on how you installed CUDA/ROCm.\nOn Windows, try setting CUDA_PATH environment variable.\n\nCheck the Installation Guide for details:\n  https://docs.cupy.dev/en/latest/install.html\n\nOriginal error:\n  ImportError: DLL load failed while importing nvrtc: 找不到指定的模块。\n================================================================\n",
     "output_type": "error",
     "traceback": [
      "\u001b[1;31m---------------------------------------------------------------------------\u001b[0m",
      "\u001b[1;31mImportError\u001b[0m                               Traceback (most recent call last)",
      "File \u001b[1;32md:\\SOFTWARE\\ANACONDA\\lib\\site-packages\\cupy\\__init__.py:18\u001b[0m, in \u001b[0;36m<module>\u001b[1;34m\u001b[0m\n\u001b[0;32m     17\u001b[0m \u001b[39mtry\u001b[39;00m:\n\u001b[1;32m---> 18\u001b[0m     \u001b[39mfrom\u001b[39;00m \u001b[39mcupy\u001b[39;00m \u001b[39mimport\u001b[39;00m _core  \u001b[39m# NOQA\u001b[39;00m\n\u001b[0;32m     19\u001b[0m \u001b[39mexcept\u001b[39;00m \u001b[39mImportError\u001b[39;00m \u001b[39mas\u001b[39;00m exc:\n",
      "File \u001b[1;32md:\\SOFTWARE\\ANACONDA\\lib\\site-packages\\cupy\\_core\\__init__.py:3\u001b[0m, in \u001b[0;36m<module>\u001b[1;34m\u001b[0m\n\u001b[0;32m      1\u001b[0m \u001b[39m# mypy: ignore-errors\u001b[39;00m\n\u001b[1;32m----> 3\u001b[0m \u001b[39mfrom\u001b[39;00m \u001b[39mcupy\u001b[39;00m\u001b[39m.\u001b[39;00m\u001b[39m_core\u001b[39;00m \u001b[39mimport\u001b[39;00m core  \u001b[39m# NOQA\u001b[39;00m\n\u001b[0;32m      4\u001b[0m \u001b[39mfrom\u001b[39;00m \u001b[39mcupy\u001b[39;00m\u001b[39m.\u001b[39;00m\u001b[39m_core\u001b[39;00m \u001b[39mimport\u001b[39;00m fusion  \u001b[39m# NOQA\u001b[39;00m\n",
      "File \u001b[1;32mcupy\\_core\\core.pyx:1\u001b[0m, in \u001b[0;36minit cupy._core.core\u001b[1;34m()\u001b[0m\n",
      "File \u001b[1;32mcupy\\_core\\_kernel.pyx:7\u001b[0m, in \u001b[0;36minit cupy._core._kernel\u001b[1;34m()\u001b[0m\n",
      "File \u001b[1;32md:\\SOFTWARE\\ANACONDA\\lib\\site-packages\\cupy\\cuda\\__init__.py:8\u001b[0m, in \u001b[0;36m<module>\u001b[1;34m\u001b[0m\n\u001b[0;32m      7\u001b[0m \u001b[39mfrom\u001b[39;00m \u001b[39mcupy\u001b[39;00m\u001b[39m.\u001b[39;00m\u001b[39m_environment\u001b[39;00m \u001b[39mimport\u001b[39;00m get_hipcc_path  \u001b[39m# NOQA\u001b[39;00m\n\u001b[1;32m----> 8\u001b[0m \u001b[39mfrom\u001b[39;00m \u001b[39mcupy\u001b[39;00m\u001b[39m.\u001b[39;00m\u001b[39mcuda\u001b[39;00m \u001b[39mimport\u001b[39;00m compiler  \u001b[39m# NOQA\u001b[39;00m\n\u001b[0;32m      9\u001b[0m \u001b[39mfrom\u001b[39;00m \u001b[39mcupy\u001b[39;00m\u001b[39m.\u001b[39;00m\u001b[39mcuda\u001b[39;00m \u001b[39mimport\u001b[39;00m device  \u001b[39m# NOQA\u001b[39;00m\n",
      "File \u001b[1;32md:\\SOFTWARE\\ANACONDA\\lib\\site-packages\\cupy\\cuda\\compiler.py:18\u001b[0m, in \u001b[0;36m<module>\u001b[1;34m\u001b[0m\n\u001b[0;32m     17\u001b[0m \u001b[39mfrom\u001b[39;00m \u001b[39mcupy_backends\u001b[39;00m\u001b[39m.\u001b[39;00m\u001b[39mcuda\u001b[39;00m\u001b[39m.\u001b[39;00m\u001b[39mapi\u001b[39;00m \u001b[39mimport\u001b[39;00m runtime\n\u001b[1;32m---> 18\u001b[0m \u001b[39mfrom\u001b[39;00m \u001b[39mcupy_backends\u001b[39;00m\u001b[39m.\u001b[39;00m\u001b[39mcuda\u001b[39;00m\u001b[39m.\u001b[39;00m\u001b[39mlibs\u001b[39;00m \u001b[39mimport\u001b[39;00m nvrtc\n\u001b[0;32m     19\u001b[0m \u001b[39mfrom\u001b[39;00m \u001b[39mcupy\u001b[39;00m \u001b[39mimport\u001b[39;00m _util\n",
      "\u001b[1;31mImportError\u001b[0m: DLL load failed while importing nvrtc: 找不到指定的模块。",
      "\nThe above exception was the direct cause of the following exception:\n",
      "\u001b[1;31mImportError\u001b[0m                               Traceback (most recent call last)",
      "\u001b[1;32md:\\PROJECT\\CODE\\matlab_to_py\\test.ipynb Cell 1\u001b[0m in \u001b[0;36m<cell line: 2>\u001b[1;34m()\u001b[0m\n\u001b[0;32m      <a href='vscode-notebook-cell:/d%3A/PROJECT/CODE/matlab_to_py/test.ipynb#W0sZmlsZQ%3D%3D?line=0'>1</a>\u001b[0m \u001b[39mimport\u001b[39;00m \u001b[39mnumpy\u001b[39;00m \u001b[39mas\u001b[39;00m \u001b[39mnp\u001b[39;00m\n\u001b[1;32m----> <a href='vscode-notebook-cell:/d%3A/PROJECT/CODE/matlab_to_py/test.ipynb#W0sZmlsZQ%3D%3D?line=1'>2</a>\u001b[0m \u001b[39mimport\u001b[39;00m \u001b[39mcupy\u001b[39;00m \u001b[39mas\u001b[39;00m \u001b[39mcp\u001b[39;00m\n\u001b[0;32m      <a href='vscode-notebook-cell:/d%3A/PROJECT/CODE/matlab_to_py/test.ipynb#W0sZmlsZQ%3D%3D?line=2'>3</a>\u001b[0m \u001b[39mimport\u001b[39;00m \u001b[39mscipy\u001b[39;00m\u001b[39m.\u001b[39;00m\u001b[39mio\u001b[39;00m  \u001b[39mas\u001b[39;00m \u001b[39msio\u001b[39;00m\n",
      "File \u001b[1;32md:\\SOFTWARE\\ANACONDA\\lib\\site-packages\\cupy\\__init__.py:20\u001b[0m, in \u001b[0;36m<module>\u001b[1;34m\u001b[0m\n\u001b[0;32m     18\u001b[0m     \u001b[39mfrom\u001b[39;00m \u001b[39mcupy\u001b[39;00m \u001b[39mimport\u001b[39;00m _core  \u001b[39m# NOQA\u001b[39;00m\n\u001b[0;32m     19\u001b[0m \u001b[39mexcept\u001b[39;00m \u001b[39mImportError\u001b[39;00m \u001b[39mas\u001b[39;00m exc:\n\u001b[1;32m---> 20\u001b[0m     \u001b[39mraise\u001b[39;00m \u001b[39mImportError\u001b[39;00m(\u001b[39mf\u001b[39m\u001b[39m'''\u001b[39m\n\u001b[0;32m     21\u001b[0m \u001b[39m================================================================\u001b[39m\n\u001b[0;32m     22\u001b[0m \u001b[39m{\u001b[39;00m_environment\u001b[39m.\u001b[39m_diagnose_import_error()\u001b[39m}\u001b[39;00m\n\u001b[0;32m     23\u001b[0m \n\u001b[0;32m     24\u001b[0m \u001b[39mOriginal error:\u001b[39m\n\u001b[0;32m     25\u001b[0m \u001b[39m  \u001b[39m\u001b[39m{\u001b[39;00m\u001b[39mtype\u001b[39m(exc)\u001b[39m.\u001b[39m\u001b[39m__name__\u001b[39m\u001b[39m}\u001b[39;00m\u001b[39m: \u001b[39m\u001b[39m{\u001b[39;00mexc\u001b[39m}\u001b[39;00m\n\u001b[0;32m     26\u001b[0m \u001b[39m================================================================\u001b[39m\n\u001b[0;32m     27\u001b[0m \u001b[39m'''\u001b[39m) \u001b[39mfrom\u001b[39;00m \u001b[39mexc\u001b[39;00m\n\u001b[0;32m     30\u001b[0m \u001b[39mfrom\u001b[39;00m \u001b[39mcupy\u001b[39;00m \u001b[39mimport\u001b[39;00m cuda  \u001b[39m# NOQA\u001b[39;00m\n\u001b[0;32m     31\u001b[0m \u001b[39m# Do not make `cupy.cupyx` available because it is confusing.\u001b[39;00m\n",
      "\u001b[1;31mImportError\u001b[0m: \n================================================================\nFailed to import CuPy.\n\nIf you installed CuPy via wheels (cupy-cudaXXX or cupy-rocm-X-X), make sure that the package matches with the version of CUDA or ROCm installed.\n\nOn Linux, you may need to set LD_LIBRARY_PATH environment variable depending on how you installed CUDA/ROCm.\nOn Windows, try setting CUDA_PATH environment variable.\n\nCheck the Installation Guide for details:\n  https://docs.cupy.dev/en/latest/install.html\n\nOriginal error:\n  ImportError: DLL load failed while importing nvrtc: 找不到指定的模块。\n================================================================\n"
     ]
    }
   ],
   "source": [
    "import numpy as np\n",
    "import cupy as cp\n",
    "import scipy.io  as sio"
   ]
  },
  {
   "cell_type": "code",
   "execution_count": 19,
   "metadata": {},
   "outputs": [
    {
     "ename": "AttributeError",
     "evalue": "module 'cupy' has no attribute 'array'",
     "output_type": "error",
     "traceback": [
      "\u001b[1;31m---------------------------------------------------------------------------\u001b[0m",
      "\u001b[1;31mAttributeError\u001b[0m                            Traceback (most recent call last)",
      "\u001b[1;32md:\\PROJECT\\CODE\\matlab_to_py\\test.ipynb Cell 2\u001b[0m in \u001b[0;36m<cell line: 1>\u001b[1;34m()\u001b[0m\n\u001b[1;32m----> <a href='vscode-notebook-cell:/d%3A/PROJECT/CODE/matlab_to_py/test.ipynb#W3sZmlsZQ%3D%3D?line=0'>1</a>\u001b[0m data\u001b[39m=\u001b[39mcp\u001b[39m.\u001b[39;49marray(\u001b[39m3\u001b[39m,\u001b[39m3\u001b[39m)\n",
      "\u001b[1;31mAttributeError\u001b[0m: module 'cupy' has no attribute 'array'"
     ]
    }
   ],
   "source": [
    "data=cp.array(3,3)"
   ]
  },
  {
   "cell_type": "code",
   "execution_count": 7,
   "metadata": {},
   "outputs": [],
   "source": [
    "from utils import *\n",
    "import numpy as np"
   ]
  },
  {
   "cell_type": "code",
   "execution_count": 13,
   "metadata": {},
   "outputs": [
    {
     "name": "stdout",
     "output_type": "stream",
     "text": [
      "[[0.70692231 0.54508904 0.88400362 0.36043377 0.55120539 0.38415207\n",
      "  0.47114624 0.34796543]\n",
      " [0.25789821 0.08134674 0.5609122  0.40989735 0.40397881 0.55143083\n",
      "  0.86886603 0.84226437]\n",
      " [0.12681918 0.25613175 0.29672562 0.03696212 0.76559625 0.32211976\n",
      "  0.28890992 0.15336197]\n",
      " [0.88193585 0.9759688  0.79004582 0.85462989 0.84718551 0.25987086\n",
      "  0.3978599  0.29817862]\n",
      " [0.53887878 0.53170226 0.14690524 0.5851913  0.09334272 0.51777807\n",
      "  0.03863263 0.23457854]\n",
      " [0.98542357 0.00215639 0.19734293 0.26178479 0.95001619 0.75481407\n",
      "  0.4333911  0.60319393]\n",
      " [0.9763799  0.68202724 0.93908895 0.9565238  0.90546588 0.33674858\n",
      "  0.22960096 0.84320894]\n",
      " [0.40246413 0.69679754 0.84255454 0.58133074 0.82098358 0.36709271\n",
      "  0.88528273 0.12965715]]\n",
      "[0 0 0 0 1 1 1 1 2 3 3 3 3 3 4 4 4 4 5 5 5 5 6 6 6 6 6 6 7 7 7 7 7] [0 1 2 4 2 5 6 7 4 0 1 2 3 4 0 1 3 5 0 4 5 7 0 1 2 3 4 7 1 2 3 4 6]\n"
     ]
    }
   ],
   "source": [
    "data=np.random.rand(8,8)\n",
    "print(data)\n",
    "# print(ind2sub(data.shape[0],np.where(data>0.5)))\n",
    "x,y=np.where(data>0.5)\n",
    "print(x,y)\n",
    "# print(np.where(data>0.5))"
   ]
  },
  {
   "cell_type": "code",
   "execution_count": 1,
   "metadata": {},
   "outputs": [],
   "source": [
    "import matlab.engine\n",
    "eng = matlab.engine.start_matlab()\n"
   ]
  },
  {
   "cell_type": "markdown",
   "metadata": {},
   "source": []
  },
  {
   "cell_type": "code",
   "execution_count": 1,
   "metadata": {},
   "outputs": [],
   "source": [
    "import pandas\n"
   ]
  }
 ],
 "metadata": {
  "kernelspec": {
   "display_name": "Python 3.9.12 ('base')",
   "language": "python",
   "name": "python3"
  },
  "language_info": {
   "codemirror_mode": {
    "name": "ipython",
    "version": 3
   },
   "file_extension": ".py",
   "mimetype": "text/x-python",
   "name": "python",
   "nbconvert_exporter": "python",
   "pygments_lexer": "ipython3",
   "version": "3.9.12"
  },
  "orig_nbformat": 4,
  "vscode": {
   "interpreter": {
    "hash": "6218001e1394f6dfc9651e69e6113b19d5ca4029843c0307c1418fcabe8710e8"
   }
  }
 },
 "nbformat": 4,
 "nbformat_minor": 2
}
