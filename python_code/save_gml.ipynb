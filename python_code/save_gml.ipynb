{
 "cells": [
  {
   "cell_type": "code",
   "execution_count": 2,
   "metadata": {
    "collapsed": true,
    "pycharm": {
     "name": "#%%\n"
    }
   },
   "outputs": [],
   "source": [
    "import scipy.io as sio\n",
    "import numpy as np"
   ]
  },
  {
   "cell_type": "code",
   "execution_count": 30,
   "metadata": {
    "collapsed": false,
    "pycharm": {
     "name": "#%%\n"
    }
   },
   "outputs": [],
   "source": [
    "def save_as_gml(nodes,edges):\n",
    "    f = open('graph.gml','w')\n",
    "    f.write('graph [\\n')\n",
    "    f.write('  node [\\n')\n",
    "    for i in nodes:\n",
    "        f.write('    id '+str(i)+'\\n')\n",
    "        f.write('    label '+str(i)+'\\n')\n",
    "\n",
    "        f.write('  ]\\n')\n",
    "\n",
    "    for i in edges:\n",
    "        f.write('  edge [\\n')\n",
    "        f.write('    source '+str(i[0])+'\\n')\n",
    "        f.write('    target '+str(i[1])+'\\n')\n",
    "        f.write('    label '+str(0)+'\\n')\n",
    "        f.write('  ]\\n')\n",
    "    f.write(']\\n')\n",
    "\n",
    "def save_text(edges):\n",
    "    with open(\"graph.txt\",\"w\") as f:\n",
    "        for edge in edges:\n",
    "            if int(edge[0]) < (edge[1]):\n",
    "                f.write(str(edge[0])+\" \"+str(edge[1])+\" {}\\n\")\n",
    "            else:\n",
    "                f.write(str(edge[1])+\" \"+str(edge[0])+\" {}\\n\")\n",
    "\n"
   ]
  },
  {
   "cell_type": "code",
   "execution_count": 17,
   "metadata": {
    "collapsed": false,
    "pycharm": {
     "name": "#%%\n"
    }
   },
   "outputs": [
    {
     "name": "stdout",
     "output_type": "stream",
     "text": [
      "37732\n"
     ]
    }
   ],
   "source": [
    "import scipy.io as sio\n",
    "map_key=sio.loadmat(\"../map_key.mat\")\n",
    "\n",
    "edges=[]\n",
    "edge_sort=[]\n",
    "vertices=[]\n",
    "for edge in map_key[\"map_key\"][0]:\n",
    "    edges.append(edge[0].split(\"+\"))\n",
    "# print(edges)\n",
    "for i in range(64984):\n",
    "    vertices.append(i)\n",
    "\n",
    "# save_as_gml(nodes=vertices,edges=edges)\n",
    "for edge in edges:\n",
    "    edge_sort.append((int(edge[0]),edge[1]) if int(edge[0]) < int(edge[1]) else (int(edge[1]),edge[0]))\n",
    "edge_sort\n",
    "edge_sort.sort()\n",
    "#\n",
    "edge_dict={}\n",
    "for edge in edge_sort:\n",
    "    if edge[0] not in edge_dict.keys():\n",
    "        edge_dict[edge[0]]=[int(edge[1])]\n",
    "    else:\n",
    "        edge_dict[edge[0]].append(int(edge[1]))\n",
    "\n",
    "for key,value in edge_dict.items():\n",
    "    \n",
    "    edge_dict[key]=sorted(value)\n",
    "    \n",
    "\n",
    "edge_list=[]\n",
    "for key,value in edge_dict.items():\n",
    "    for i in value:\n",
    "        edge_list.append((int(key),i))\n",
    "\n",
    "# save_text(edge_list)\n",
    "print(len(edge_list))\n",
    "# save_text(edge_dict)"
   ]
  },
  {
   "cell_type": "code",
   "execution_count": 18,
   "metadata": {
    "collapsed": false,
    "pycharm": {
     "name": "#%%\n"
    }
   },
   "outputs": [],
   "source": [
    "#映射节点关系\n",
    "node_unique=[]\n",
    "for i in edge_list:\n",
    "    if i[0] not in node_unique:\n",
    "        node_unique.append(i[0])\n",
    "    if i[1] not in node_unique:\n",
    "        node_unique.append(i[1])\n",
    "# print(node_unique)\n",
    "node_dic={}\n",
    "for i in range(len(node_unique)):\n",
    "    node_dic[node_unique[i]]=i\n",
    "\n",
    "edge_list_trans=[]\n",
    "for edge in edge_list:\n",
    "    #去除自环的部分节点，不添加到内容中\n",
    "    # if node_dic[edge[0]]==node_dic[edge[1]]:\n",
    "    #     continue\n",
    "    edge_list_trans.append((node_dic[edge[0]],node_dic[edge[1]]))\n",
    "# print(edge_list_trans)"
   ]
  },
  {
   "cell_type": "code",
   "execution_count": null,
   "metadata": {
    "collapsed": false,
    "pycharm": {
     "name": "#%%\n"
    }
   },
   "outputs": [],
   "source": [
    "#获取逆映射列表\n",
    "dic_reverse=dict((v,k) for k,v in node_dic.items())\n",
    "print(dic_reverse)\n",
    "\n",
    "# print(edge_dict)"
   ]
  },
  {
   "cell_type": "code",
   "execution_count": 27,
   "metadata": {
    "collapsed": false,
    "pycharm": {
     "name": "#%%\n"
    }
   },
   "outputs": [],
   "source": [
    "\n",
    "def save_text(edges):\n",
    "    with open(\"graph2.txt\",\"w\") as f:\n",
    "        for edge in edges:\n",
    "            # if edge[0]==edge[1]:\n",
    "            #     continue\n",
    "            if int(edge[0]) < (edge[1]):\n",
    "                f.write(str(edge[0])+\" \"+str(edge[1])+\"\\n\")\n",
    "            else:\n",
    "                f.write(str(edge[1])+\" \"+str(edge[0])+\"\\n\")"
   ]
  },
  {
   "cell_type": "code",
   "execution_count": 28,
   "metadata": {
    "collapsed": false,
    "pycharm": {
     "name": "#%%\n"
    }
   },
   "outputs": [],
   "source": [
    "save_text(edge_list)"
   ]
  },
  {
   "cell_type": "code",
   "execution_count": 21,
   "metadata": {
    "collapsed": false,
    "pycharm": {
     "name": "#%%\n"
    }
   },
   "outputs": [],
   "source": [
    "import networkx as nx\n",
    "import matplotlib.pyplot as plt\n",
    "\n",
    "G=nx.Graph()\n",
    "with open(\"graph1.txt\",\"r\" ) as f:\n",
    "    line=f.readline()\n",
    "    while line:\n",
    "        edge=line.strip().split(\" \")\n",
    "        G.add_edge(edge[0],edge[1])\n",
    "        line=f.readline()\n",
    "# nx.draw(G,with_labels=G.nodes())\n",
    "# plt.show()\n",
    "# plt.savefig(\"graph1.png\")"
   ]
  },
  {
   "cell_type": "code",
   "execution_count": 22,
   "metadata": {
    "collapsed": false,
    "pycharm": {
     "name": "#%%\n"
    }
   },
   "outputs": [
    {
     "data": {
      "text/plain": [
       "<networkx.classes.graph.Graph at 0x26657d90070>"
      ]
     },
     "execution_count": 22,
     "metadata": {},
     "output_type": "execute_result"
    }
   ],
   "source": [
    "nx.read_edgelist(\"graph1.txt\")"
   ]
  },
  {
   "cell_type": "code",
   "execution_count": 31,
   "metadata": {
    "collapsed": false,
    "pycharm": {
     "name": "#%%\n"
    }
   },
   "outputs": [],
   "source": [
    "\n",
    "# G1=nx.to_undirected(G1)\n"
   ]
  },
  {
   "cell_type": "code",
   "execution_count": 24,
   "metadata": {
    "collapsed": false,
    "pycharm": {
     "name": "#%%\n"
    }
   },
   "outputs": [],
   "source": [
    "G2=nx.read_edgelist('graph1.txt', create_using=nx.DiGraph())\n",
    "# G2=nx.to_undirected(G2)"
   ]
  },
  {
   "cell_type": "code",
   "execution_count": 12,
   "metadata": {
    "collapsed": false,
    "pycharm": {
     "name": "#%%\n"
    }
   },
   "outputs": [],
   "source": [
    "nx.write_gml(G2,\"graph2.gml\")"
   ]
  },
  {
   "cell_type": "code",
   "execution_count": 53,
   "metadata": {
    "collapsed": false,
    "pycharm": {
     "name": "#%%\n"
    }
   },
   "outputs": [
    {
     "name": "stdout",
     "output_type": "stream",
     "text": [
      "[['308'], ['791'], ['833'], ['834'], ['872'], ['2744'], ['2779'], ['2812'], ['2848'], ['2855'], ['2886'], ['2945'], ['3005'], ['3029'], ['3054'], ['3080'], ['3244'], ['3263'], ['3274'], ['3314'], ['3356'], ['3360'], ['5019'], ['6279'], ['7710'], ['12330'], ['12412'], ['16894'], ['17455'], ['27583'], ['27645'], ['29153'], ['30399'], ['30457'], ['32529'], ['32854'], ['35337'], ['35371'], ['35402'], ['35520'], ['35548'], ['35571'], ['35594'], ['35703'], ['35796'], ['35842'], ['35843'], ['35861'], ['36837'], ['37898'], ['37899'], ['37948'], ['41901'], ['41936'], ['42104'], ['42163'], ['45114'], ['48605'], ['49361'], ['51541'], ['55856'], ['55985'], ['57124'], ['60578'], ['62337'], ['63271'], ['63306'], ['63428'], ['64075']]\n"
     ]
    }
   ],
   "source": [
    "import networkx as nx\n",
    "G1=nx.read_edgelist('graph2.txt', create_using=nx.DiGraph())\n",
    "print(list(nx.simple_cycles(G1)))"
   ]
  },
  {
   "cell_type": "code",
   "execution_count": 16,
   "metadata": {
    "collapsed": false,
    "pycharm": {
     "name": "#%%\n"
    }
   },
   "outputs": [
    {
     "ename": "AttributeError",
     "evalue": "module networkx has no attribute free",
     "output_type": "error",
     "traceback": [
      "\u001b[1;31m---------------------------------------------------------------------------\u001b[0m",
      "\u001b[1;31mAttributeError\u001b[0m                            Traceback (most recent call last)",
      "Input \u001b[1;32mIn [16]\u001b[0m, in \u001b[0;36m<cell line: 2>\u001b[1;34m()\u001b[0m\n\u001b[0;32m      1\u001b[0m G2\u001b[38;5;241m.\u001b[39mremove_edges_from(nx\u001b[38;5;241m.\u001b[39mselfloop_edges(G2))\n\u001b[1;32m----> 2\u001b[0m G2\u001b[38;5;241m=\u001b[39m\u001b[43mnx\u001b[49m\u001b[38;5;241;43m.\u001b[39;49m\u001b[43mfree\u001b[49m(G2)\n\u001b[0;32m      3\u001b[0m \u001b[38;5;28mprint\u001b[39m(G2\u001b[38;5;241m.\u001b[39mis_connected())\n",
      "File \u001b[1;32m~\\AppData\\Roaming\\Python\\Python38\\site-packages\\networkx\\__init__.py:51\u001b[0m, in \u001b[0;36m__getattr__\u001b[1;34m(name)\u001b[0m\n\u001b[0;32m     42\u001b[0m \u001b[38;5;28;01mif\u001b[39;00m name \u001b[38;5;241m==\u001b[39m \u001b[38;5;124m\"\u001b[39m\u001b[38;5;124mwrite_yaml\u001b[39m\u001b[38;5;124m\"\u001b[39m:\n\u001b[0;32m     43\u001b[0m     \u001b[38;5;28;01mraise\u001b[39;00m \u001b[38;5;167;01mImportError\u001b[39;00m(\n\u001b[0;32m     44\u001b[0m         \u001b[38;5;124m\"\u001b[39m\u001b[38;5;130;01m\\n\u001b[39;00m\u001b[38;5;124mwrite_yaml has been removed from NetworkX, please use `yaml`\u001b[39m\u001b[38;5;130;01m\\n\u001b[39;00m\u001b[38;5;124m\"\u001b[39m\n\u001b[0;32m     45\u001b[0m         \u001b[38;5;124m\"\u001b[39m\u001b[38;5;124mdirectly:\u001b[39m\u001b[38;5;130;01m\\n\u001b[39;00m\u001b[38;5;130;01m\\n\u001b[39;00m\u001b[38;5;124m\"\u001b[39m\n\u001b[1;32m   (...)\u001b[0m\n\u001b[0;32m     49\u001b[0m         \u001b[38;5;124m\"\u001b[39m\u001b[38;5;124mThis message will be removed in NetworkX 3.0.\u001b[39m\u001b[38;5;124m\"\u001b[39m\n\u001b[0;32m     50\u001b[0m     )\n\u001b[1;32m---> 51\u001b[0m \u001b[38;5;28;01mraise\u001b[39;00m \u001b[38;5;167;01mAttributeError\u001b[39;00m(\u001b[38;5;124mf\u001b[39m\u001b[38;5;124m\"\u001b[39m\u001b[38;5;124mmodule \u001b[39m\u001b[38;5;132;01m{\u001b[39;00m\u001b[38;5;18m__name__\u001b[39m\u001b[38;5;132;01m}\u001b[39;00m\u001b[38;5;124m has no attribute \u001b[39m\u001b[38;5;132;01m{\u001b[39;00mname\u001b[38;5;132;01m}\u001b[39;00m\u001b[38;5;124m\"\u001b[39m)\n",
      "\u001b[1;31mAttributeError\u001b[0m: module networkx has no attribute free"
     ]
    }
   ],
   "source": [
    "G2.remove_edges_from(nx. (G2))\n",
    "G2=nx.free(G2)\n",
    "print(G2.is_connected())"
   ]
  },
  {
   "cell_type": "code",
   "execution_count": null,
   "metadata": {
    "collapsed": false,
    "pycharm": {
     "name": "#%%\n"
    }
   },
   "outputs": [],
   "source": [
    "with open(\"graph1.txt\",\"r\" ) as f:\n",
    "    line=f.readline()\n",
    "    while line:\n",
    "        edge=line.strip().split(\" \")\n",
    "        G2.add_edge(edge[0],edge[1])\n",
    "        line=f.readline()"
   ]
  },
  {
   "cell_type": "code",
   "execution_count": null,
   "metadata": {
    "collapsed": false,
    "pycharm": {
     "name": "#%%\n"
    }
   },
   "outputs": [],
   "source": [
    "with open(\"result_graph1.txt\",\"r\" ) as f:\n",
    "    line=f.readlines()\n",
    "print([x.strip() for x in line])\n"
   ]
  },
  {
   "cell_type": "code",
   "execution_count": null,
   "metadata": {
    "collapsed": false,
    "pycharm": {
     "name": "#%%\n"
    }
   },
   "outputs": [],
   "source": [
    "#读取结果文件，获取原始节点\n",
    "\n",
    "with open(\"result_graph1.txt\",\"r\" ) as f:\n",
    "    line=f.readlines()\n",
    "nodes=[x.strip() for x in line]\n",
    "node_original=[]\n",
    "for node in nodes:\n",
    "    node_original.append(dic_reverse[int(node)])\n",
    "print(node_original)\n"
   ]
  },
  {
   "cell_type": "code",
   "execution_count": 16,
   "metadata": {
    "collapsed": false,
    "pycharm": {
     "name": "#%%\n"
    }
   },
   "outputs": [
    {
     "name": "stdout",
     "output_type": "stream",
     "text": [
      "[[ -9.203461 -39.663757  26.138397]\n",
      " [-22.236511 -38.524216  59.275558]\n",
      " [-47.786926  -5.991791  34.802025]\n",
      " ...\n",
      " [ 60.034302 -34.216621 -11.112442]\n",
      " [ 59.615402 -33.664948  -9.494114]\n",
      " [ 58.297832 -35.000595 -10.267822]]\n"
     ]
    }
   ],
   "source": [
    "\n",
    "node_form_mat=node = sio.loadmat('../node.mat')\n",
    "print(node[\"ans\"][0][0][0].T)\n",
    "node_matrix=node[\"ans\"][0][0][0].T\n",
    "with open(\"node_result.txt\",\"w\" ) as f:\n",
    "    for i in node_original:\n",
    "        f.write(\",\".join([str(x) for x in node_matrix[i]])+\"\\n\")"
   ]
  },
  {
   "cell_type": "code",
   "execution_count": 42,
   "metadata": {
    "collapsed": false,
    "pycharm": {
     "name": "#%%\n"
    }
   },
   "outputs": [
    {
     "name": "stdout",
     "output_type": "stream",
     "text": [
      "37732 37732\n",
      "37509 16695\n"
     ]
    }
   ],
   "source": [
    "#读取带权值的边节点，转换为gml格式\n",
    "\n",
    "import scipy.io as sio\n",
    "edge_key=sio.loadmat(\"../edge_key.mat\")[\"key\"][0]\n",
    "edge_value=sio.loadmat(\"../edge_value.mat\")[\"value\"][0]\n",
    "edge_key_list=[edge_key[i][0].split(\"+\") for i in range(len(edge_key))]\n",
    "edge_key_list=[[int(x[0]),int(x[1])] if int(x[0])<int(x[1]) else [int(x[1]),int(x[0])]for x in edge_key_list]\n",
    "# edge_key_list=list(set(edge_key_list))\n",
    "edge_value_list=[int(edge_value[i]) for i in range(len(edge_value))]\n",
    "# print(edge_value_list)\n",
    "print(len(edge_key_list),len(edge_value_list))\n",
    "# print(edge_key_list)\n",
    "# print(len(edge_key_list),len(edge_value_list))\n",
    "#\n",
    "#去除自环\n",
    "remove_list=[]\n",
    "for i in range(len(edge_key_list)):\n",
    "    #自环\n",
    "    if edge_key_list[i][0]==edge_key_list[i][1]:\n",
    "        remove_list.append((i,edge_key_list[i]))\n",
    "    #重复边\n",
    "    elif edge_key_list.count(edge_key_list[i])>1:\n",
    "        remove_list.append((i,edge_key_list[i]))\n",
    "        # print(i)\n",
    "# print(remove_list)\n",
    "value__remove_list=[edge_value_list[i] for i,_ in remove_list]\n",
    "for i,ele in remove_list:\n",
    "\n",
    "    edge_key_list.remove(ele)\n",
    "\n",
    "for i in value__remove_list:\n",
    "     edge_value_list.remove(i)\n",
    "#映射节点信息\n",
    "edge_unique=[]\n",
    "for i in edge_key_list:\n",
    "    if int(i[0]) not in edge_unique:\n",
    "        edge_unique.append(int(i[0]))\n",
    "    if int(i[1]) not in edge_unique:\n",
    "        edge_unique.append(int(i[1]))\n",
    "edge_unique.sort()\n",
    "# print(edge_unique)\n",
    "#映射\n",
    "edge_dic={}\n",
    "for i in range(len(edge_unique)):\n",
    "    edge_dic[edge_unique[i]]=i\n",
    "weight_list=[]\n",
    "edge_all=[]\n",
    "for i in range(len(edge_key_list)):\n",
    "    edge_all.extend([edge_key_list[i][0],edge_key_list[i][1]])\n",
    "for i in edge_unique:\n",
    "    weight_list.append(edge_all.count(i))\n",
    "# print(weight_list)\n",
    "print(len(edge_key_list),len(edge_unique))\n",
    "\n",
    "\n"
   ]
  },
  {
   "cell_type": "code",
   "execution_count": 28,
   "metadata": {
    "collapsed": false,
    "pycharm": {
     "name": "#%%\n"
    }
   },
   "outputs": [],
   "source": [
    "\n",
    "def save_gml(edges,values,max_edge,edge_dic):\n",
    "    with open(\"graph_test_oringin.gml\",\"w\") as f:\n",
    "        f.write(\"graph [\\n\")\n",
    "        # f.write(\"directed 1\\n\")\n",
    "        for i in range((max_edge)):\n",
    "            f.write(\"node [\\n\")\n",
    "            f.write(\"id \"+str(i)+\"\\n\")\n",
    "            f.write(\"label \\\"\"+str(i)+\"\\\"\\n\")\n",
    "            f.write(\"weight \"+str(float(values[i])/10)+\"\\n\")\n",
    "            f.write(\"]\\n\")\n",
    "        for i in range(len(edges)):\n",
    "            f.write(\"edge [\\n\")\n",
    "            f.write(\"source \"+str(edge_dic[int(edges[i][0])])+\"\\n\")\n",
    "            f.write(\"target \"+str(edge_dic[int(edges[i][1])])+\"\\n\")\n",
    "            # f.write(\"value \"+str(values[i])+\"\\n\")\n",
    "            f.write(\"]\\n\")\n",
    "\n",
    "        f.write(\"]\\n\")\n",
    "save_gml(edge_key_list,weight_list,len(edge_unique),edge_dic)\n",
    "# print(weight_list)"
   ]
  },
  {
   "cell_type": "code",
   "execution_count": 22,
   "metadata": {
    "collapsed": false,
    "pycharm": {
     "name": "#%%\n"
    }
   },
   "outputs": [
    {
     "ename": "AttributeError",
     "evalue": "'Graph' object has no attribute 'simple_cycles'",
     "output_type": "error",
     "traceback": [
      "\u001b[1;31m---------------------------------------------------------------------------\u001b[0m",
      "\u001b[1;31mAttributeError\u001b[0m                            Traceback (most recent call last)",
      "Input \u001b[1;32mIn [22]\u001b[0m, in \u001b[0;36m<cell line: 4>\u001b[1;34m()\u001b[0m\n\u001b[0;32m      2\u001b[0m g\u001b[38;5;241m=\u001b[39mnx\u001b[38;5;241m.\u001b[39mread_gml(\u001b[38;5;124m\"\u001b[39m\u001b[38;5;124mgraph_test.gml\u001b[39m\u001b[38;5;124m\"\u001b[39m)\n\u001b[0;32m      3\u001b[0m \u001b[38;5;66;03m# print(g.edges())\u001b[39;00m\n\u001b[1;32m----> 4\u001b[0m \u001b[38;5;28mprint\u001b[39m(\u001b[43mg\u001b[49m\u001b[38;5;241;43m.\u001b[39;49m\u001b[43msimple_cycles\u001b[49m())\n",
      "\u001b[1;31mAttributeError\u001b[0m: 'Graph' object has no attribute 'simple_cycles'"
     ]
    }
   ],
   "source": [
    "import networkx as nx\n",
    "g=nx.read_gml(\"graph_test.gml\")\n",
    "# print(g.edges())\n",
    "\n",
    "print(g.simple_cycles())"
   ]
  },
  {
   "cell_type": "code",
   "execution_count": 30,
   "metadata": {
    "collapsed": false,
    "pycharm": {
     "name": "#%%\n"
    }
   },
   "outputs": [
    {
     "name": "stdout",
     "output_type": "stream",
     "text": [
      "6\n"
     ]
    }
   ],
   "source": [
    "print(edge_value_list[9682])"
   ]
  },
  {
   "cell_type": "code",
   "execution_count": 15,
   "metadata": {
    "collapsed": false,
    "pycharm": {
     "name": "#%%\n"
    }
   },
   "outputs": [
    {
     "name": "stdout",
     "output_type": "stream",
     "text": [
      "使用无权图得到的节点个数： 6646\n",
      "使用带权图得到的节点个数： 8972\n",
      "前三千个节点中重叠的节点个数为： 486\n",
      "总共重叠节点为： 3590\n",
      "\n"
     ]
    }
   ],
   "source": [
    "#比较两个结果\n",
    "result_no_wright=[]\n",
    "result_weight=[]\n",
    "with open(\"result_graph1.txt\",\"r\") as f:\n",
    "    line=f.readlines()\n",
    "    for i in range(len(line)):\n",
    "        result_no_wright.append(line[i].strip())\n",
    "with open(\"graph_test_degree.txt\",\"r\") as f:\n",
    "    line=f.readlines()\n",
    "    for i in range(len(line)):\n",
    "        result_weight.append(line[i].strip())\n",
    "common_list=list(set(result_no_wright[:3000]).intersection(result_weight[:3000]))\n",
    "common=list(set(result_no_wright[:]).intersection(result_weight[:]))\n",
    "print(\"使用无权图得到的节点个数：\",len(result_no_wright))\n",
    "print(\"使用带权图得到的节点个数：\",len(result_weight))\n",
    "print(\"前三千个节点中重叠的节点个数为：\",len(common_list))\n",
    "print(\"总共重叠节点为：\",len(common))\n",
    "print()"
   ]
  },
  {
   "cell_type": "code",
   "execution_count": 43,
   "metadata": {
    "collapsed": false,
    "pycharm": {
     "name": "#%%\n"
    }
   },
   "outputs": [
    {
     "name": "stdout",
     "output_type": "stream",
     "text": [
      "64984\n"
     ]
    }
   ],
   "source": [
    "import scipy.io as sio\n",
    "surface=sio.loadmat(\"../surf.mat\")\n",
    "points=surface[\"surf\"][0][0][0].T\n",
    "# print(points.T)\n",
    "#\n",
    "# print(result_no_wright)\n",
    "edge_dic_rever=dict(zip(edge_dic.values(),edge_dic.keys()))\n",
    "# print(edge_dic_rever)\n",
    "# print(len(result_no_wright))\n",
    "# print(edge_dic_rever)\n",
    "result=[edge_dic_rever[int(x)]for x in result_no_wright]\n",
    "result1=[edge_dic_rever[int(x)]for x in result_weight]\n",
    "# print(max(result))\n",
    "# print(points)\n",
    "with open(\"nodes.txt\",\"w\") as f:\n",
    "    for i in points:\n",
    "        f.write(str(i[0])+' '+str(i[1])+' '+str(i[2])+\"\\n\")\n",
    "# print(result1)\n",
    "print(len(points))"
   ]
  },
  {
   "cell_type": "code",
   "execution_count": 41,
   "metadata": {
    "collapsed": false,
    "pycharm": {
     "name": "#%%\n"
    }
   },
   "outputs": [],
   "source": [
    "#将节点信息写入到vtk\n",
    "def save_vtk(result,filename):\n",
    "    with open(filename,\"w\") as f:\n",
    "        f.write(\"# vtk DataFile Version 3.0\\nmesh surface\\nASCII\\nDATASET POLYDATA\\n\")\n",
    "        f.write(\"POINTS \"+str(len(result))+\" float\\n\")\n",
    "        for i in result:\n",
    "            point=points[edge_dic_rever[int(i)]]\n",
    "            f.write(str(point[0])+\" \"+str(point[1])+\" \"+str(point[2])+\"\\n\")\n",
    "save_vtk(result_weight,\"graph2.vtk\")\n"
   ]
  },
  {
   "cell_type": "code",
   "execution_count": 51,
   "metadata": {
    "collapsed": false,
    "pycharm": {
     "name": "#%%\n"
    }
   },
   "outputs": [
    {
     "name": "stdout",
     "output_type": "stream",
     "text": [
      "[300, 2100, 100, 100, 500, 600, 100, 200, 200, 100, 100, 200, 100, 400, 200, 200, 100, 100, 200, 100, 200, 100, 100, 200, 100, 200, 200, 100, 200, 100, 100, 300, 100, 100, 100, 100, 100, 200, 100, 100, 100, 100, 100, 100, 100, 100, 100, 100, 100, 100]\n"
     ]
    },
    {
     "data": {
      "image/png": "[encoded data removed]",
      "text/plain": [
       "<Figure size 432x288 with 1 Axes>"
      ]
     },
     "metadata": {},
     "output_type": "display_data"
    }
   ],
   "source": [
    "import networkx as network\n",
    "import matplotlib.pyplot as plot\n",
    "\n",
    "ba = network.barabasi_albert_graph(50, 1)\n",
    "ps = network.spring_layout(ba)\n",
    "degree=ba.degree()\n",
    "de=[x[1] *100for x in degree]\n",
    "print(de)\n",
    "# print(degree.values())\n",
    "# print([int(v) * 100 for v in degree.values()])\n",
    "network.draw(ba, ps, with_labels = False, node_size =de)\n",
    "plot.gcf().savefig(\"BA.png\")\n",
    "plot.show()\n"
   ]
  },
  {
   "cell_type": "code",
   "execution_count": 39,
   "metadata": {
    "collapsed": false,
    "pycharm": {
     "name": "#%%\n"
    }
   },
   "outputs": [
    {
     "data": {
      "text/plain": [
       "<Figure size 432x288 with 0 Axes>"
      ]
     },
     "metadata": {},
     "output_type": "display_data"
    }
   ],
   "source": []
  }
 ],
 "metadata": {
  "kernelspec": {
   "display_name": "Python 3.9.12 ('base')",
   "language": "python",
   "name": "python3"
  },
  "language_info": {
   "codemirror_mode": {
    "name": "ipython",
    "version": 3
   },
   "file_extension": ".py",
   "mimetype": "text/x-python",
   "name": "python",
   "nbconvert_exporter": "python",
   "pygments_lexer": "ipython3",
   "version": "3.9.12"
  },
  "vscode": {
   "interpreter": {
    "hash": "16f5b46f222e2a3e8d4adbf7141cae37b71ed37616e60735fa5d1164a1bc3ada"
   }
  }
 },
 "nbformat": 4,
 "nbformat_minor": 0
}
