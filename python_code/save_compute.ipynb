{
 "cells": [
  {
   "cell_type": "code",
   "execution_count": 2,
   "metadata": {
    "collapsed": true,
    "pycharm": {
     "name": "#%%\n"
    }
   },
   "outputs": [
    {
     "name": "stderr",
     "output_type": "stream",
     "text": [
      "100%|██████████| 16408/16408 [07:06<00:00, 38.44it/s]  \n",
      "100%|██████████| 3525/3525 [00:09<00:00, 378.06it/s]\n",
      "100%|██████████| 19262/19262 [15:30<00:00, 20.71it/s]  \n",
      "100%|██████████| 6731/6731 [00:52<00:00, 128.46it/s] \n",
      "100%|██████████| 6264/6264 [00:42<00:00, 148.24it/s]\n"
     ]
    }
   ],
   "source": [
    "import  networkx as nx\n",
    "from tqdm import tqdm\n",
    "person = [\"106319\", \"116221\", \"110007\",\"119732\",\"123420\"]\n",
    "for per in person:\n",
    "    g=nx.read_edgelist(f\"../graph_file/{per}.txt\")\n",
    "    local_efficient_list=[]\n",
    "    for v in tqdm(g):\n",
    "        local=nx.global_efficiency(g.subgraph(g[v]))\n",
    "        local_efficient_list.append(local)\n",
    "    with open(f\"../网络参数/效率/{per}.txt\", \"w\") as f:\n",
    "        for i in local_efficient_list:\n",
    "            f.write(str(i))\n",
    "            f.write(\"\\n\")\n",
    "    score=nx.betweenness_centrality(g)\n",
    "    # print(score)\n",
    "    with open(f\"../网络参数/介数中心度/{per}.txt\", \"w\") as f:\n",
    "        for i in score.values():\n",
    "            f.write(str(i))\n",
    "            f.write(\"\\n\")\n",
    "# efficiency_list = (global_efficiency(G.subgraph(G[v])) for v in G)\n",
    "# for v in g:\n",
    "#     print(v)\n",
    "\n",
    "# print(len(g))\n",
    "\n"
   ]
  },
  {
   "cell_type": "code",
   "execution_count": 22,
   "outputs": [
    {
     "name": "stdout",
     "output_type": "stream",
     "text": [
      "9.243437878223022e-05\n",
      "0.0004909839676355539\n",
      "7.827393426507908e-05\n",
      "0.0002583227391894818\n",
      "0.0002772765125442678\n"
     ]
    }
   ],
   "source": [
    "import pandas as pd\n",
    "import numpy as np\n",
    "import networkx as nx\n",
    "\n",
    "def get_efficent(name):\n",
    "    path=\"../网络参数/效率/\"\n",
    "    file=path+name+\".txt\"\n",
    "    with open(file, \"r\") as f:\n",
    "        lines = f.readlines()\n",
    "        lines = [line.strip() for line in lines]\n",
    "        lines = [float(line) for line in lines]\n",
    "        return lines\n",
    "def get_jieshu(name):\n",
    "    path=\"../网络参数/介数中心度/\"\n",
    "    file=path+name+\".txt\"\n",
    "    with open(file, \"r\") as f:\n",
    "        lines = f.readlines()\n",
    "        lines = [line.strip() for line in lines]\n",
    "        lines = [float(line) for line in lines]\n",
    "        return lines\n",
    "def get_result(name):\n",
    "    path=\"../results/\"\n",
    "    file=path+name+\".txt\"\n",
    "    with open(file, \"r\") as f:\n",
    "        lines = f.readlines()\n",
    "        # lines = [line.strip() for line in lines]\n",
    "        lines = [int(line) for line in lines]\n",
    "        return lines\n",
    "def get_edges(name):\n",
    "    path=\"../graph_file/\"\n",
    "    file=path+name+\".txt\"\n",
    "    g=nx.read_edgelist(file)\n",
    "    return len(g.nodes()),len(g.edges())\n",
    "person=[\n",
    "    \"106319\",\n",
    "    \"116221\",\n",
    "    \"110007\",\n",
    "    \"119732\",\n",
    "    \"123420\"]\n",
    "def getshuniu(efficent,jieshu,result_node,oringinnode):\n",
    "    shuniu_efficent=[]\n",
    "    shuniu_jieshu=[]\n",
    "    for i in range(1000):\n",
    "        shuniu_jieshu.append(jieshu[result_node[i]])\n",
    "        shuniu_efficent.append(efficent[result_node[i]])\n",
    "    return np.mean(shuniu_efficent),np.mean(shuniu_jieshu)\n",
    "\n",
    "\n",
    "colums=[\"name\",\"节点数\",\"边数\",\"求解节点数\",\"平均局部效率\",\"枢纽点平均效率\",\"平均介数中心度\",\"枢纽点平均介数\"]\n",
    "dataframe=pd.DataFrame(columns=colums)\n",
    "for p in person:\n",
    "    efficent=get_efficent(p)\n",
    "    jieshu=get_jieshu(p)\n",
    "    result=get_result(p)\n",
    "    node,edge=get_edges(p)\n",
    "    print(np.mean(jieshu))\n",
    "    shuniu_e,shuniu_j=getshuniu(efficent,jieshu,result,node)\n",
    "    # dataframe.append({\"name\":p,\"节点数\":node,\"边数\":edge,\"求解节点数\":len(result),\"平均局部效率\":round(np.mean(efficent)),\"枢纽点平均效率\":round(shuniu_e,3),\"平均介数中心度\":round(np.mean(jieshu),5),\"枢纽点平均介数\":round(shuniu_j,5)},ignore_index=True)\n",
    "    dataframe=dataframe.append({\"name\":p,\"平均局部效率\":round(np.mean(efficent),3),\"平均介数中心度\":round(np.mean(jieshu),5),\"边数\":edge,\"节点数\":node,\"求解节点数\":len(result),\"枢纽点平均效率\":round(shuniu_e,3),\"枢纽点平均介数\":round(shuniu_j,5)},ignore_index=True)\n",
    "dataframe.to_csv(\"../results/参数统计.csv\",index=False)\n"
   ],
   "metadata": {
    "collapsed": false,
    "pycharm": {
     "name": "#%%\n"
    }
   }
  },
  {
   "cell_type": "code",
   "execution_count": 1,
   "outputs": [
    {
     "data": {
      "text/plain": "Canvas()",
      "application/vnd.jupyter.widget-view+json": {
       "version_major": 2,
       "version_minor": 0,
       "model_id": "a678e80ffa774d8db858d2e9ead888de"
      }
     },
     "metadata": {},
     "output_type": "display_data"
    }
   ],
   "source": [
    "from holoviews.ipython import display\n",
    "import ipycanvas\n",
    "import matplotlib\n",
    "def tilde(canvas,x0,x1,y,depth):\n",
    "    if depth==0:\n",
    "        canvas.move_to(x0,y)\n",
    "        canvas.line_to(x1,y)\n",
    "    else:\n",
    "        tilde(canvas,x0,(x0+x1)/2,y+depth,depth-1)\n",
    "        tilde(canvas,(x0+x1)/2,x1,y+depth,depth-1)\n",
    "canvas=ipycanvas.Canvas(size=(320,320))\n",
    "tilde(canvas,40.0,280.0,160.0,3)\n",
    "display(canvas)\n",
    "# canvas.show()\n",
    "\n",
    "\n",
    "\n"
   ],
   "metadata": {
    "collapsed": false,
    "pycharm": {
     "name": "#%%\n"
    }
   }
  }
 ],
 "metadata": {
  "kernelspec": {
   "display_name": "Python 3",
   "language": "python",
   "name": "python3"
  },
  "language_info": {
   "codemirror_mode": {
    "name": "ipython",
    "version": 2
   },
   "file_extension": ".py",
   "mimetype": "text/x-python",
   "name": "python",
   "nbconvert_exporter": "python",
   "pygments_lexer": "ipython2",
   "version": "2.7.6"
  }
 },
 "nbformat": 4,
 "nbformat_minor": 0
}